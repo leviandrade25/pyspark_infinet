{
 "cells": [
  {
   "cell_type": "code",
   "execution_count": 0,
   "metadata": {
    "application/vnd.databricks.v1+cell": {
     "cellMetadata": {
      "byteLimit": 2048000,
      "rowLimit": 10000
     },
     "inputWidgets": {},
     "nuid": "bb2564fd-d3d9-4079-a383-34754c4d5d1a",
     "showTitle": false,
     "title": ""
    }
   },
   "outputs": [],
   "source": [
    "import requests\n",
    "from io import BytesIO\n",
    "from pyspark.sql.types import *\n",
    "from pyspark.sql.functions import *\n",
    "from pyspark.ml.feature import VectorAssembler\n",
    "from pyspark.ml.regression import LinearRegression\n",
    "from pyspark.ml.tuning import CrossValidator, ParamGridBuilder\n",
    "from pyspark.ml.evaluation import RegressionEvaluator\n",
    "\n",
    "\n"
   ]
  },
  {
   "cell_type": "code",
   "execution_count": 0,
   "metadata": {
    "application/vnd.databricks.v1+cell": {
     "cellMetadata": {
      "byteLimit": 2048000,
      "rowLimit": 10000
     },
     "inputWidgets": {},
     "nuid": "20be40d0-6405-450b-9faf-73698e1b0ebe",
     "showTitle": true,
     "title": "Baixando primeiro arquivo para o sistema de arquivos local"
    }
   },
   "outputs": [],
   "source": [
    "#link para download\n",
    "url = \"https://query.data.world/s/ts3253q4zig6243pl6llh4wh6da2i5?dws=00000\"\n",
    "\n",
    "#fazendo a requisição para download\n",
    "response = requests.get(url)\n",
    "response.raise_for_status()\n",
    "\n",
    "#caminho local onde será salvo\n",
    "dbfs_path = \"/dbfs/religions.csv\"\n",
    "\n",
    "\n",
    "#criando arquivo com o retorno da requisição\n",
    "with open(dbfs_path, 'wb') as f:\n",
    "    f.write(response.content)"
   ]
  },
  {
   "cell_type": "code",
   "execution_count": 0,
   "metadata": {
    "application/vnd.databricks.v1+cell": {
     "cellMetadata": {
      "byteLimit": 2048000,
      "rowLimit": 10000
     },
     "inputWidgets": {},
     "nuid": "d9bdcf1e-fbc0-4220-9426-786f13a48118",
     "showTitle": true,
     "title": "Baixando segundo arquivo para o sistema de arquivos local"
    }
   },
   "outputs": [
    {
     "output_type": "stream",
     "name": "stdout",
     "output_type": "stream",
     "text": [
      "--2023-09-25 21:46:56--  https://api.worldbank.org/v2/en/indicator/SP.DYN.TFRT.IN?downloadformat=csv\nResolving api.worldbank.org (api.worldbank.org)... 52.188.136.184\nConnecting to api.worldbank.org (api.worldbank.org)|52.188.136.184|:443... connected.\nHTTP request sent, awaiting response... 200 OK\nLength: 69770 (68K) [application/zip]\nSaving to: ‘SP.DYN.TFRT.IN?downloadformat=csv’\n\n     0K .......... .......... .......... .......... .......... 73%  634K 0s\n    50K .......... ........                                   100% 82.4M=0.08s\n\n2023-09-25 21:46:56 (861 KB/s) - ‘SP.DYN.TFRT.IN?downloadformat=csv’ saved [69770/69770]\n\nArchive:  SP.DYN.TFRT.IN?downloadformat=csv\n  inflating: Metadata_Indicator_API_SP.DYN.TFRT.IN_DS2_en_csv_v2_5871756.csv  \n  inflating: API_SP.DYN.TFRT.IN_DS2_en_csv_v2_5871756.csv  \n  inflating: Metadata_Country_API_SP.DYN.TFRT.IN_DS2_en_csv_v2_5871756.csv  \n"
     ]
    }
   ],
   "source": [
    "%sh\n",
    "wget https://api.worldbank.org/v2/en/indicator/SP.DYN.TFRT.IN?downloadformat=csv\n",
    "unzip 'SP.DYN.TFRT.IN?downloadformat=csv'\n",
    "\n"
   ]
  },
  {
   "cell_type": "code",
   "execution_count": 0,
   "metadata": {
    "application/vnd.databricks.v1+cell": {
     "cellMetadata": {
      "byteLimit": 2048000,
      "rowLimit": 10000
     },
     "inputWidgets": {},
     "nuid": "6d558635-61f2-43ce-a1cc-0866c0be934d",
     "showTitle": true,
     "title": "Movendo arquivo e removendo 5 primeiras linhas do csv. "
    }
   },
   "outputs": [],
   "source": [
    "%sh\n",
    "mv API_SP.DYN* /dbfs/birth_rate.csv"
   ]
  },
  {
   "cell_type": "code",
   "execution_count": 0,
   "metadata": {
    "application/vnd.databricks.v1+cell": {
     "cellMetadata": {
      "byteLimit": 2048000,
      "rowLimit": 10000
     },
     "inputWidgets": {},
     "nuid": "fb0b0d82-f5b8-4c25-aa0e-0d665bcd8905",
     "showTitle": false,
     "title": ""
    }
   },
   "outputs": [],
   "source": [
    "%sh\n",
    "tail -n +5 /dbfs/birth_rate.csv > arquivo_temp.csv && mv arquivo_temp.csv /dbfs/birth_rate.csv"
   ]
  },
  {
   "cell_type": "code",
   "execution_count": 0,
   "metadata": {
    "application/vnd.databricks.v1+cell": {
     "cellMetadata": {
      "byteLimit": 2048000,
      "rowLimit": 10000
     },
     "inputWidgets": {},
     "nuid": "7f4b358f-85fd-4b0f-b17e-5bab6243738b",
     "showTitle": true,
     "title": "Movendo os arquivos para dbfs"
    }
   },
   "outputs": [
    {
     "output_type": "stream",
     "name": "stdout",
     "output_type": "stream",
     "text": [
      "Out[110]: True"
     ]
    }
   ],
   "source": [
    "dbutils.fs.cp(\"file:/dbfs/religions.csv\", \"dbfs:/FileStore/religions.csv\")\n",
    "dbutils.fs.cp(\"file:/dbfs/birth_rate.csv\", \"dbfs:/FileStore/birth_rate.csv\")\n",
    "\n"
   ]
  },
  {
   "cell_type": "code",
   "execution_count": 0,
   "metadata": {
    "application/vnd.databricks.v1+cell": {
     "cellMetadata": {
      "byteLimit": 2048000,
      "rowLimit": 10000
     },
     "inputWidgets": {},
     "nuid": "2913e276-737e-4ed5-9ee4-b187aa561723",
     "showTitle": true,
     "title": "Criando dataframe de religions"
    }
   },
   "outputs": [],
   "source": [
    "religions = spark.read.option(\"header\",\"true\").csv(\"dbfs:/FileStore/religions.csv\")"
   ]
  },
  {
   "cell_type": "code",
   "execution_count": 0,
   "metadata": {
    "application/vnd.databricks.v1+cell": {
     "cellMetadata": {
      "byteLimit": 2048000,
      "rowLimit": 10000
     },
     "inputWidgets": {},
     "nuid": "c7086a97-1fec-4c11-ae80-e7d5d66e5274",
     "showTitle": true,
     "title": "Criando dataframe de birth_rate"
    }
   },
   "outputs": [],
   "source": [
    "birth_rate = spark.read.option(\"header\",\"true\").csv(\"dbfs:/FileStore/birth_rate.csv\")"
   ]
  },
  {
   "cell_type": "code",
   "execution_count": 0,
   "metadata": {
    "application/vnd.databricks.v1+cell": {
     "cellMetadata": {
      "byteLimit": 2048000,
      "rowLimit": 10000
     },
     "inputWidgets": {},
     "nuid": "02a11977-db00-469d-9dd6-a79247b6a781",
     "showTitle": true,
     "title": "Paises com os maiores indices de fertilidade no acumulado dos ultimos 63 anos"
    }
   },
   "outputs": [
    {
     "output_type": "display_data",
     "data": {
      "text/html": [
       "<style scoped>\n",
       "  .table-result-container {\n",
       "    max-height: 300px;\n",
       "    overflow: auto;\n",
       "  }\n",
       "  table, th, td {\n",
       "    border: 1px solid black;\n",
       "    border-collapse: collapse;\n",
       "  }\n",
       "  th, td {\n",
       "    padding: 5px;\n",
       "  }\n",
       "  th {\n",
       "    text-align: left;\n",
       "  }\n",
       "</style><div class='table-result-container'><table class='table-result'><thead style='background-color: white'><tr><th>Country or Area</th><th>maior_taxa_por_pais_range_62_anos</th></tr></thead><tbody><tr><td>Niger</td><td>7.449145161290324</td></tr><tr><td>Burundi</td><td>6.711516129032252</td></tr><tr><td>Uganda</td><td>6.531612903225806</td></tr><tr><td>Rwanda</td><td>6.4640161290322595</td></tr><tr><td>Burkina Faso</td><td>6.359532258064517</td></tr><tr><td>Ethiopia</td><td>6.324145161290322</td></tr><tr><td>Malawi</td><td>6.263016129032268</td></tr><tr><td>Zambia</td><td>6.212612903225814</td></tr><tr><td>Kenya</td><td>5.960177419354836</td></tr><tr><td>Mozambique</td><td>5.920370967741951</td></tr><tr><td>Liberia</td><td>5.88735483870968</td></tr><tr><td>Marshall Islands</td><td>5.722870967741936</td></tr><tr><td>Guinea-Bissau</td><td>5.704967741935487</td></tr><tr><td>Sao Tome and Principe</td><td>5.4885967741935495</td></tr><tr><td>Ghana</td><td>5.425903225806452</td></tr><tr><td>Samoa</td><td>5.394499999999995</td></tr><tr><td>Timor-Leste</td><td>5.251419354838713</td></tr><tr><td>Vanuatu</td><td>5.053112903225808</td></tr><tr><td>Tonga</td><td>4.759483870967745</td></tr><tr><td>Botswana</td><td>4.602758064516137</td></tr><tr><td>Kiribati</td><td>4.557403225806446</td></tr><tr><td>Nicaragua</td><td>4.495129032258072</td></tr><tr><td>Mongolia</td><td>4.480080645161284</td></tr><tr><td>Philippines</td><td>4.4581935483871</td></tr><tr><td>Bangladesh</td><td>4.452951612903228</td></tr><tr><td>Nepal</td><td>4.403741935483871</td></tr><tr><td>Belize</td><td>4.400612903225807</td></tr><tr><td>Cambodia</td><td>4.382580645161284</td></tr><tr><td>Paraguay</td><td>4.2395483870967645</td></tr><tr><td>Qatar</td><td>4.127596774193548</td></tr><tr><td>Peru</td><td>4.06993548387097</td></tr><tr><td>Bahrain</td><td>3.943370967741936</td></tr><tr><td>India</td><td>3.9433064516128993</td></tr><tr><td>Mexico</td><td>3.908403225806439</td></tr><tr><td>South Africa</td><td>3.8014193548386954</td></tr><tr><td>Tuvalu</td><td>3.716370967741937</td></tr><tr><td>Suriname</td><td>3.6872419354838777</td></tr><tr><td>Fiji</td><td>3.585790322580644</td></tr><tr><td>Indonesia</td><td>3.549483870967732</td></tr><tr><td>Malaysia</td><td>3.4966774193548495</td></tr><tr><td>Brunei Darussalam</td><td>3.480919354838707</td></tr><tr><td>Jamaica</td><td>3.1974516129032455</td></tr><tr><td>Brazil</td><td>3.1920483870967544</td></tr><tr><td>Israel</td><td>3.1463387096774214</td></tr><tr><td>Albania</td><td>3.1149838709677415</td></tr><tr><td>Dominica</td><td>2.9890967741935444</td></tr><tr><td>Sri Lanka</td><td>2.9883064516129068</td></tr><tr><td>Thailand</td><td>2.892306451612907</td></tr><tr><td>Kazakhstan</td><td>2.8872580645161294</td></tr><tr><td>Trinidad and Tobago</td><td>2.613709677419354</td></tr><tr><td>Mauritius</td><td>2.613612903225824</td></tr><tr><td>Chile</td><td>2.581387096774193</td></tr><tr><td>Ireland</td><td>2.5416129032257806</td></tr><tr><td>Antigua and Barbuda</td><td>2.410741935483873</td></tr><tr><td>Armenia</td><td>2.390548387096772</td></tr><tr><td>Gibraltar</td><td>2.3693870967741915</td></tr><tr><td>Aruba</td><td>2.3431129032258036</td></tr><tr><td>Sint Maarten (Dutch part)</td><td>2.313193548387094</td></tr><tr><td>New Zealand</td><td>2.2896774193549034</td></tr><tr><td>Georgia</td><td>2.161645161290323</td></tr><tr><td>Barbados</td><td>2.1504354838709667</td></tr><tr><td>Montenegro</td><td>2.138032258064524</td></tr><tr><td>Cyprus</td><td>2.1191935483870954</td></tr><tr><td>Australia</td><td>2.0705806451612965</td></tr><tr><td>Singapore</td><td>2.0219354838709656</td></tr><tr><td>Portugal</td><td>1.9282258064516173</td></tr><tr><td>Romania</td><td>1.925967741935476</td></tr><tr><td>Bermuda</td><td>1.8638870967741927</td></tr><tr><td>Canada</td><td>1.8521612903226221</td></tr><tr><td>Poland</td><td>1.8432258064516132</td></tr><tr><td>Lithuania</td><td>1.8150000000000248</td></tr><tr><td>Finland</td><td>1.7766129032258011</td></tr><tr><td>Estonia</td><td>1.7643548387096668</td></tr><tr><td>Bulgaria</td><td>1.730645161290323</td></tr><tr><td>Slovenia</td><td>1.7027096774193549</td></tr><tr><td>Croatia</td><td>1.6851612903225826</td></tr><tr><td>Austria</td><td>1.6811290322580694</td></tr><tr><td>Serbia</td><td>1.6602419354838773</td></tr><tr><td>Switzerland</td><td>1.658387096774197</td></tr><tr><td>Hungary</td><td>1.6551612903225694</td></tr><tr><td>Germany</td><td>1.5572580645161282</td></tr><tr><td>Palau</td><td>null</td></tr><tr><td>Cayman Islands</td><td>null</td></tr><tr><td>Liechtenstein</td><td>null</td></tr><tr><td>Seychelles</td><td>null</td></tr></tbody></table></div>"
      ]
     },
     "metadata": {
      "application/vnd.databricks.v1+output": {
       "addedWidgets": {},
       "aggData": [],
       "aggError": "",
       "aggOverflow": false,
       "aggSchema": [],
       "aggSeriesLimitReached": false,
       "aggType": "",
       "arguments": {},
       "columnCustomDisplayInfos": {},
       "data": [
        [
         "Niger",
         7.449145161290324
        ],
        [
         "Burundi",
         6.711516129032252
        ],
        [
         "Uganda",
         6.531612903225806
        ],
        [
         "Rwanda",
         6.4640161290322595
        ],
        [
         "Burkina Faso",
         6.359532258064517
        ],
        [
         "Ethiopia",
         6.324145161290322
        ],
        [
         "Malawi",
         6.263016129032268
        ],
        [
         "Zambia",
         6.212612903225814
        ],
        [
         "Kenya",
         5.960177419354836
        ],
        [
         "Mozambique",
         5.920370967741951
        ],
        [
         "Liberia",
         5.88735483870968
        ],
        [
         "Marshall Islands",
         5.722870967741936
        ],
        [
         "Guinea-Bissau",
         5.704967741935487
        ],
        [
         "Sao Tome and Principe",
         5.4885967741935495
        ],
        [
         "Ghana",
         5.425903225806452
        ],
        [
         "Samoa",
         5.394499999999995
        ],
        [
         "Timor-Leste",
         5.251419354838713
        ],
        [
         "Vanuatu",
         5.053112903225808
        ],
        [
         "Tonga",
         4.759483870967745
        ],
        [
         "Botswana",
         4.602758064516137
        ],
        [
         "Kiribati",
         4.557403225806446
        ],
        [
         "Nicaragua",
         4.495129032258072
        ],
        [
         "Mongolia",
         4.480080645161284
        ],
        [
         "Philippines",
         4.4581935483871
        ],
        [
         "Bangladesh",
         4.452951612903228
        ],
        [
         "Nepal",
         4.403741935483871
        ],
        [
         "Belize",
         4.400612903225807
        ],
        [
         "Cambodia",
         4.382580645161284
        ],
        [
         "Paraguay",
         4.2395483870967645
        ],
        [
         "Qatar",
         4.127596774193548
        ],
        [
         "Peru",
         4.06993548387097
        ],
        [
         "Bahrain",
         3.943370967741936
        ],
        [
         "India",
         3.9433064516128993
        ],
        [
         "Mexico",
         3.908403225806439
        ],
        [
         "South Africa",
         3.8014193548386954
        ],
        [
         "Tuvalu",
         3.716370967741937
        ],
        [
         "Suriname",
         3.6872419354838777
        ],
        [
         "Fiji",
         3.585790322580644
        ],
        [
         "Indonesia",
         3.549483870967732
        ],
        [
         "Malaysia",
         3.4966774193548495
        ],
        [
         "Brunei Darussalam",
         3.480919354838707
        ],
        [
         "Jamaica",
         3.1974516129032455
        ],
        [
         "Brazil",
         3.1920483870967544
        ],
        [
         "Israel",
         3.1463387096774214
        ],
        [
         "Albania",
         3.1149838709677415
        ],
        [
         "Dominica",
         2.9890967741935444
        ],
        [
         "Sri Lanka",
         2.9883064516129068
        ],
        [
         "Thailand",
         2.892306451612907
        ],
        [
         "Kazakhstan",
         2.8872580645161294
        ],
        [
         "Trinidad and Tobago",
         2.613709677419354
        ],
        [
         "Mauritius",
         2.613612903225824
        ],
        [
         "Chile",
         2.581387096774193
        ],
        [
         "Ireland",
         2.5416129032257806
        ],
        [
         "Antigua and Barbuda",
         2.410741935483873
        ],
        [
         "Armenia",
         2.390548387096772
        ],
        [
         "Gibraltar",
         2.3693870967741915
        ],
        [
         "Aruba",
         2.3431129032258036
        ],
        [
         "Sint Maarten (Dutch part)",
         2.313193548387094
        ],
        [
         "New Zealand",
         2.2896774193549034
        ],
        [
         "Georgia",
         2.161645161290323
        ],
        [
         "Barbados",
         2.1504354838709667
        ],
        [
         "Montenegro",
         2.138032258064524
        ],
        [
         "Cyprus",
         2.1191935483870954
        ],
        [
         "Australia",
         2.0705806451612965
        ],
        [
         "Singapore",
         2.0219354838709656
        ],
        [
         "Portugal",
         1.9282258064516173
        ],
        [
         "Romania",
         1.925967741935476
        ],
        [
         "Bermuda",
         1.8638870967741927
        ],
        [
         "Canada",
         1.8521612903226221
        ],
        [
         "Poland",
         1.8432258064516132
        ],
        [
         "Lithuania",
         1.8150000000000248
        ],
        [
         "Finland",
         1.7766129032258011
        ],
        [
         "Estonia",
         1.7643548387096668
        ],
        [
         "Bulgaria",
         1.730645161290323
        ],
        [
         "Slovenia",
         1.7027096774193549
        ],
        [
         "Croatia",
         1.6851612903225826
        ],
        [
         "Austria",
         1.6811290322580694
        ],
        [
         "Serbia",
         1.6602419354838773
        ],
        [
         "Switzerland",
         1.658387096774197
        ],
        [
         "Hungary",
         1.6551612903225694
        ],
        [
         "Germany",
         1.5572580645161282
        ],
        [
         "Palau",
         null
        ],
        [
         "Cayman Islands",
         null
        ],
        [
         "Liechtenstein",
         null
        ],
        [
         "Seychelles",
         null
        ]
       ],
       "datasetInfos": [],
       "dbfsResultPath": null,
       "isJsonSchema": true,
       "metadata": {},
       "overflow": false,
       "plotOptions": {
        "customPlotOptions": {},
        "displayType": "table",
        "pivotAggregation": null,
        "pivotColumns": null,
        "xColumns": null,
        "yColumns": null
       },
       "removedWidgets": [],
       "schema": [
        {
         "metadata": "{}",
         "name": "Country or Area",
         "type": "\"string\""
        },
        {
         "metadata": "{}",
         "name": "maior_taxa_por_pais_range_62_anos",
         "type": "\"double\""
        }
       ],
       "type": "table"
      }
     },
     "output_type": "display_data"
    }
   ],
   "source": [
    "taxa_62_anos = (religions\n",
    "                                     .join(birth_rate.alias(\"b\"),\n",
    "                                           religions['Country or Area'] == birth_rate['Country Name'])\n",
    "                                     .withColumn(\"maior_taxa_por_pais_range_62_anos\",\n",
    "                                    ((col(\"1961\") + col(\"1962\") + col(\"1963\") + col(\"1964\") + col(\"1965\") + col(\"1966\") + col(\"1967\")\n",
    "                                    + col(\"1968\") + col(\"1969\") + col(\"1970\") + col(\"1971\") + col(\"1972\") + col(\"1973\") + col(\"1974\")\n",
    "                                    + col(\"1975\") + col(\"1976\") + col(\"1977\") + col(\"1978\") + col(\"1979\") + col(\"1980\") + col(\"1981\")\n",
    "                                    + col(\"1982\") + col(\"1983\") + col(\"1984\") + col(\"1985\") + col(\"1986\") + col(\"1987\") + col(\"1988\")\n",
    "                                    + col(\"1989\") + col(\"1990\") + col(\"1991\") + col(\"1992\") + col(\"1993\") + col(\"1994\") + col(\"1995\")\n",
    "                                    + col(\"1996\") + col(\"1997\") + col(\"1998\") + col(\"1999\") + col(\"2000\") + col(\"2001\") + col(\"2002\")\n",
    "                                    + col(\"2003\") + col(\"2004\") + col(\"2005\") + col(\"2006\") + col(\"2007\") + col(\"2008\") + col(\"2009\")\n",
    "                                    + col(\"2010\") + col(\"2011\") + col(\"2012\") + col(\"2013\") + col(\"2014\") + col(\"2015\") + col(\"2016\")\n",
    "                                    + col(\"2017\") + col(\"2018\") + col(\"2019\") + col(\"2020\") + col(\"2021\"))/62))\n",
    "                                     .select(\"Country or Area\",\"maior_taxa_por_pais_range_62_anos\"))\n",
    "\n",
    "grouped_data = (taxa_62_anos.groupBy(\"Country or Area\")\n",
    "                .agg(avg(\"maior_taxa_por_pais_range_62_anos\").alias(\"maior_taxa_por_pais_range_62_anos\"))\n",
    "                .sort(col(\"maior_taxa_por_pais_range_62_anos\").desc())\n",
    "                .select(\"Country or Area\", \"maior_taxa_por_pais_range_62_anos\"))\n",
    "\n",
    "grouped_data.display()"
   ]
  },
  {
   "cell_type": "code",
   "execution_count": 0,
   "metadata": {
    "application/vnd.databricks.v1+cell": {
     "cellMetadata": {
      "byteLimit": 2048000,
      "rowLimit": 10000
     },
     "inputWidgets": {},
     "nuid": "c1bd55c1-4c53-4a59-8d26-3ee4b5cbeb6e",
     "showTitle": true,
     "title": "Maior taxa de fertilidade nos 5 anos antes de completar 10 anos do fim da Segunda Guerra mundial."
    }
   },
   "outputs": [
    {
     "output_type": "display_data",
     "data": {
      "text/html": [
       "<style scoped>\n",
       "  .table-result-container {\n",
       "    max-height: 300px;\n",
       "    overflow: auto;\n",
       "  }\n",
       "  table, th, td {\n",
       "    border: 1px solid black;\n",
       "    border-collapse: collapse;\n",
       "  }\n",
       "  th, td {\n",
       "    padding: 5px;\n",
       "  }\n",
       "  th {\n",
       "    text-align: left;\n",
       "  }\n",
       "</style><div class='table-result-container'><table class='table-result'><thead style='background-color: white'><tr><th>Country or Area</th><th>maior_taxa</th></tr></thead><tbody><tr><td>Marshall Islands</td><td>8.306799999999997</td></tr><tr><td>Rwanda</td><td>8.197000000000001</td></tr><tr><td>Kenya</td><td>7.8666</td></tr><tr><td>Samoa</td><td>7.652199999999995</td></tr><tr><td>Niger</td><td>7.489600000000001</td></tr><tr><td>Mongolia</td><td>7.312199999999995</td></tr><tr><td>Zambia</td><td>7.2394</td></tr><tr><td>Malawi</td><td>7.098799999999992</td></tr><tr><td>Nicaragua</td><td>7.097600000000006</td></tr><tr><td>Bahrain</td><td>7.0688</td></tr><tr><td>Burundi</td><td>7.066199999999992</td></tr><tr><td>Uganda</td><td>7.025199999999999</td></tr><tr><td>Philippines</td><td>6.940399999999996</td></tr><tr><td>Ghana</td><td>6.926799999999993</td></tr><tr><td>Ethiopia</td><td>6.8709999999999996</td></tr><tr><td>Peru</td><td>6.847199999999993</td></tr><tr><td>Bangladesh</td><td>6.840800000000001</td></tr><tr><td>Mexico</td><td>6.80919999999997</td></tr><tr><td>Tonga</td><td>6.763599999999998</td></tr><tr><td>Vanuatu</td><td>6.7298000000000044</td></tr><tr><td>Qatar</td><td>6.6854000000000005</td></tr><tr><td>Botswana</td><td>6.634999999999994</td></tr><tr><td>Brunei Darussalam</td><td>6.552600000000003</td></tr><tr><td>Liberia</td><td>6.541600000000002</td></tr><tr><td>Kiribati</td><td>6.4884000000000075</td></tr><tr><td>Mozambique</td><td>6.47600000000001</td></tr><tr><td>Suriname</td><td>6.47300000000001</td></tr><tr><td>Belize</td><td>6.440000000000034</td></tr><tr><td>Paraguay</td><td>6.435799999999982</td></tr><tr><td>Burkina Faso</td><td>6.370799999999991</td></tr><tr><td>Sao Tome and Principe</td><td>6.3058000000000005</td></tr><tr><td>Thailand</td><td>6.254000000000014</td></tr><tr><td>Timor-Leste</td><td>6.1476</td></tr><tr><td>Malaysia</td><td>6.136200000000004</td></tr><tr><td>South Africa</td><td>6.064399999999982</td></tr><tr><td>Nepal</td><td>6.0593999999999895</td></tr><tr><td>Albania</td><td>6.0158</td></tr><tr><td>Fiji</td><td>5.957599999999999</td></tr><tr><td>India</td><td>5.955800000000007</td></tr><tr><td>Guinea-Bissau</td><td>5.950999999999997</td></tr><tr><td>Cambodia</td><td>5.931</td></tr><tr><td>Mauritius</td><td>5.917999999999965</td></tr><tr><td>Brazil</td><td>5.892200000000002</td></tr><tr><td>Indonesia</td><td>5.598600000000007</td></tr><tr><td>Jamaica</td><td>5.552799999999972</td></tr><tr><td>Sri Lanka</td><td>5.188400000000001</td></tr><tr><td>Dominica</td><td>5.0989999999999975</td></tr><tr><td>Singapore</td><td>5.081999999999995</td></tr><tr><td>Trinidad and Tobago</td><td>5.003800000000005</td></tr><tr><td>Tuvalu</td><td>4.575000000000001</td></tr><tr><td>Chile</td><td>4.522800000000004</td></tr><tr><td>Antigua and Barbuda</td><td>4.508399999999996</td></tr><tr><td>Armenia</td><td>4.33479999999999</td></tr><tr><td>Kazakhstan</td><td>4.312200000000001</td></tr><tr><td>Aruba</td><td>4.2596</td></tr><tr><td>Barbados</td><td>4.166999999999999</td></tr><tr><td>New Zealand</td><td>3.9780000000000504</td></tr><tr><td>Ireland</td><td>3.9639999999999715</td></tr><tr><td>Sint Maarten (Dutch part)</td><td>3.9225999999999965</td></tr><tr><td>Israel</td><td>3.8371999999999975</td></tr><tr><td>Gibraltar</td><td>3.687199999999997</td></tr><tr><td>Canada</td><td>3.522399999999904</td></tr><tr><td>Cyprus</td><td>3.5003999999999995</td></tr><tr><td>Montenegro</td><td>3.344799999999995</td></tr><tr><td>Bermuda</td><td>3.3400000000000087</td></tr><tr><td>Australia</td><td>3.2874000000000567</td></tr><tr><td>Portugal</td><td>3.184000000000006</td></tr><tr><td>Georgia</td><td>2.895999999999994</td></tr><tr><td>Austria</td><td>2.7780000000000125</td></tr><tr><td>Poland</td><td>2.668000000000005</td></tr><tr><td>Finland</td><td>2.6299999999999963</td></tr><tr><td>Switzerland</td><td>2.600000000000009</td></tr><tr><td>Germany</td><td>2.488</td></tr><tr><td>Lithuania</td><td>2.368000000000007</td></tr><tr><td>Slovenia</td><td>2.310400000000001</td></tr><tr><td>Bulgaria</td><td>2.2040000000000046</td></tr><tr><td>Croatia</td><td>2.1938000000000075</td></tr><tr><td>Serbia</td><td>2.0333999999999874</td></tr><tr><td>Romania</td><td>2.018</td></tr><tr><td>Estonia</td><td>1.9279999999999975</td></tr><tr><td>Hungary</td><td>1.8380000000000083</td></tr><tr><td>Palau</td><td>null</td></tr><tr><td>Cayman Islands</td><td>null</td></tr><tr><td>Liechtenstein</td><td>null</td></tr><tr><td>Seychelles</td><td>null</td></tr></tbody></table></div>"
      ]
     },
     "metadata": {
      "application/vnd.databricks.v1+output": {
       "addedWidgets": {},
       "aggData": [],
       "aggError": "",
       "aggOverflow": false,
       "aggSchema": [],
       "aggSeriesLimitReached": false,
       "aggType": "",
       "arguments": {},
       "columnCustomDisplayInfos": {},
       "data": [
        [
         "Marshall Islands",
         8.306799999999997
        ],
        [
         "Rwanda",
         8.197000000000001
        ],
        [
         "Kenya",
         7.8666
        ],
        [
         "Samoa",
         7.652199999999995
        ],
        [
         "Niger",
         7.489600000000001
        ],
        [
         "Mongolia",
         7.312199999999995
        ],
        [
         "Zambia",
         7.2394
        ],
        [
         "Malawi",
         7.098799999999992
        ],
        [
         "Nicaragua",
         7.097600000000006
        ],
        [
         "Bahrain",
         7.0688
        ],
        [
         "Burundi",
         7.066199999999992
        ],
        [
         "Uganda",
         7.025199999999999
        ],
        [
         "Philippines",
         6.940399999999996
        ],
        [
         "Ghana",
         6.926799999999993
        ],
        [
         "Ethiopia",
         6.8709999999999996
        ],
        [
         "Peru",
         6.847199999999993
        ],
        [
         "Bangladesh",
         6.840800000000001
        ],
        [
         "Mexico",
         6.80919999999997
        ],
        [
         "Tonga",
         6.763599999999998
        ],
        [
         "Vanuatu",
         6.7298000000000044
        ],
        [
         "Qatar",
         6.6854000000000005
        ],
        [
         "Botswana",
         6.634999999999994
        ],
        [
         "Brunei Darussalam",
         6.552600000000003
        ],
        [
         "Liberia",
         6.541600000000002
        ],
        [
         "Kiribati",
         6.4884000000000075
        ],
        [
         "Mozambique",
         6.47600000000001
        ],
        [
         "Suriname",
         6.47300000000001
        ],
        [
         "Belize",
         6.440000000000034
        ],
        [
         "Paraguay",
         6.435799999999982
        ],
        [
         "Burkina Faso",
         6.370799999999991
        ],
        [
         "Sao Tome and Principe",
         6.3058000000000005
        ],
        [
         "Thailand",
         6.254000000000014
        ],
        [
         "Timor-Leste",
         6.1476
        ],
        [
         "Malaysia",
         6.136200000000004
        ],
        [
         "South Africa",
         6.064399999999982
        ],
        [
         "Nepal",
         6.0593999999999895
        ],
        [
         "Albania",
         6.0158
        ],
        [
         "Fiji",
         5.957599999999999
        ],
        [
         "India",
         5.955800000000007
        ],
        [
         "Guinea-Bissau",
         5.950999999999997
        ],
        [
         "Cambodia",
         5.931
        ],
        [
         "Mauritius",
         5.917999999999965
        ],
        [
         "Brazil",
         5.892200000000002
        ],
        [
         "Indonesia",
         5.598600000000007
        ],
        [
         "Jamaica",
         5.552799999999972
        ],
        [
         "Sri Lanka",
         5.188400000000001
        ],
        [
         "Dominica",
         5.0989999999999975
        ],
        [
         "Singapore",
         5.081999999999995
        ],
        [
         "Trinidad and Tobago",
         5.003800000000005
        ],
        [
         "Tuvalu",
         4.575000000000001
        ],
        [
         "Chile",
         4.522800000000004
        ],
        [
         "Antigua and Barbuda",
         4.508399999999996
        ],
        [
         "Armenia",
         4.33479999999999
        ],
        [
         "Kazakhstan",
         4.312200000000001
        ],
        [
         "Aruba",
         4.2596
        ],
        [
         "Barbados",
         4.166999999999999
        ],
        [
         "New Zealand",
         3.9780000000000504
        ],
        [
         "Ireland",
         3.9639999999999715
        ],
        [
         "Sint Maarten (Dutch part)",
         3.9225999999999965
        ],
        [
         "Israel",
         3.8371999999999975
        ],
        [
         "Gibraltar",
         3.687199999999997
        ],
        [
         "Canada",
         3.522399999999904
        ],
        [
         "Cyprus",
         3.5003999999999995
        ],
        [
         "Montenegro",
         3.344799999999995
        ],
        [
         "Bermuda",
         3.3400000000000087
        ],
        [
         "Australia",
         3.2874000000000567
        ],
        [
         "Portugal",
         3.184000000000006
        ],
        [
         "Georgia",
         2.895999999999994
        ],
        [
         "Austria",
         2.7780000000000125
        ],
        [
         "Poland",
         2.668000000000005
        ],
        [
         "Finland",
         2.6299999999999963
        ],
        [
         "Switzerland",
         2.600000000000009
        ],
        [
         "Germany",
         2.488
        ],
        [
         "Lithuania",
         2.368000000000007
        ],
        [
         "Slovenia",
         2.310400000000001
        ],
        [
         "Bulgaria",
         2.2040000000000046
        ],
        [
         "Croatia",
         2.1938000000000075
        ],
        [
         "Serbia",
         2.0333999999999874
        ],
        [
         "Romania",
         2.018
        ],
        [
         "Estonia",
         1.9279999999999975
        ],
        [
         "Hungary",
         1.8380000000000083
        ],
        [
         "Palau",
         null
        ],
        [
         "Cayman Islands",
         null
        ],
        [
         "Liechtenstein",
         null
        ],
        [
         "Seychelles",
         null
        ]
       ],
       "datasetInfos": [],
       "dbfsResultPath": null,
       "isJsonSchema": true,
       "metadata": {},
       "overflow": false,
       "plotOptions": {
        "customPlotOptions": {},
        "displayType": "table",
        "pivotAggregation": null,
        "pivotColumns": null,
        "xColumns": null,
        "yColumns": null
       },
       "removedWidgets": [],
       "schema": [
        {
         "metadata": "{}",
         "name": "Country or Area",
         "type": "\"string\""
        },
        {
         "metadata": "{}",
         "name": "maior_taxa",
         "type": "\"double\""
        }
       ],
       "type": "table"
      }
     },
     "output_type": "display_data"
    }
   ],
   "source": [
    "maior_taxa = (religions\n",
    "                                     .join(birth_rate.alias(\"b\"),\n",
    "                                           religions['Country or Area'] == birth_rate['Country Name'])\n",
    "                                     .withColumn(\"maior_taxa\",\n",
    "                                    ((col(\"1961\") + col(\"1962\") + col(\"1963\") + col(\"1964\") + col(\"1965\"))/5))\n",
    "                                     .select(\"Country or Area\",\"maior_taxa\"))\n",
    "\n",
    "\n",
    "grouped_data_grouped = (maior_taxa.groupBy(\"Country or Area\")\n",
    "                .agg(avg(\"maior_taxa\").alias(\"maior_taxa\"))\n",
    "                .sort(col(\"maior_taxa\").desc())\n",
    "                .select(\"Country or Area\", \"maior_taxa\"))\n",
    "\n",
    "grouped_data_grouped.display()"
   ]
  },
  {
   "cell_type": "code",
   "execution_count": 0,
   "metadata": {
    "application/vnd.databricks.v1+cell": {
     "cellMetadata": {
      "byteLimit": 2048000,
      "rowLimit": 10000
     },
     "inputWidgets": {},
     "nuid": "08107e6c-425d-4c9a-87ca-9dfb8456b4d6",
     "showTitle": true,
     "title": "Religião que registrou fieis com maior indice de fertilidade 20 anos após a Segunda guerra mundial"
    }
   },
   "outputs": [
    {
     "output_type": "display_data",
     "data": {
      "text/html": [
       "<style scoped>\n",
       "  .table-result-container {\n",
       "    max-height: 300px;\n",
       "    overflow: auto;\n",
       "  }\n",
       "  table, th, td {\n",
       "    border: 1px solid black;\n",
       "    border-collapse: collapse;\n",
       "  }\n",
       "  th, td {\n",
       "    padding: 5px;\n",
       "  }\n",
       "  th {\n",
       "    text-align: left;\n",
       "  }\n",
       "</style><div class='table-result-container'><table class='table-result'><thead style='background-color: white'><tr><th>Religion</th><th>indice_religiao</th></tr></thead><tbody><tr><td>Worship Centre</td><td>7.4110000000000005</td></tr><tr><td>Peace Chapel</td><td>7.4110000000000005</td></tr><tr><td>Voice of Christ</td><td>7.4110000000000005</td></tr><tr><td>Samoa Evangelism</td><td>7.4110000000000005</td></tr><tr><td>Community Church</td><td>7.4110000000000005</td></tr><tr><td>CCCJS</td><td>7.4110000000000005</td></tr><tr><td>Aoga Tusi Paia</td><td>7.4110000000000005</td></tr><tr><td>Shaman</td><td>7.379666666666667</td></tr><tr><td>Traditional</td><td>6.644759999999995</td></tr><tr><td>Badimo</td><td>6.627866666666668</td></tr><tr><td>Saio/Zione</td><td>6.619000000000001</td></tr><tr><td>Historics</td><td>6.548533333333335</td></tr><tr><td>Custom</td><td>6.500733333333333</td></tr><tr><td>Evangelical Christian</td><td>6.438599999999999</td></tr><tr><td>Non-Apostolic</td><td>6.414533333333335</td></tr><tr><td>Iglesia Evangelista Methodista en Las Filipinas</td><td>6.397733333333332</td></tr><tr><td>Philippine Benevolent Missionaries Association</td><td>6.397733333333332</td></tr><tr><td>Southern Baptist</td><td>6.397733333333332</td></tr><tr><td>International Baptist Missionary Fellowship</td><td>6.397733333333332</td></tr><tr><td>United Methodist Church</td><td>6.397733333333332</td></tr><tr><td>United Church of Christ</td><td>6.397733333333332</td></tr><tr><td>Association of Fundamental Baptist Church in the Philippines</td><td>6.397733333333332</td></tr><tr><td>Episcopal</td><td>6.397733333333332</td></tr><tr><td>Aglipay</td><td>6.397733333333332</td></tr><tr><td>Convention of the Philippine Baptist Church</td><td>6.397733333333332</td></tr><tr><td>Association of Baptist Churches in Luzon, Visayas and Mindanao</td><td>6.397733333333332</td></tr><tr><td>Missionary Baptist Churches of the Philippines</td><td>6.397733333333332</td></tr><tr><td>Iglesia ni Cristo</td><td>6.397733333333332</td></tr><tr><td>Ethnic Churches</td><td>6.347683333333332</td></tr><tr><td>Animist</td><td>6.241172093023256</td></tr><tr><td>Other Evangelical Churches</td><td>6.236941666666669</td></tr><tr><td>Tokaikolo Christian Church</td><td>6.215333333333334</td></tr><tr><td>Free Church of Tonga</td><td>6.215333333333334</td></tr><tr><td>Church of Tonga</td><td>6.215333333333334</td></tr><tr><td>Constitutional Church of Tonga</td><td>6.215333333333334</td></tr><tr><td>Free Wesleyan Church</td><td>6.215333333333334</td></tr><tr><td>Other Methodist Churches</td><td>6.071433333333332</td></tr><tr><td>Other Baptist Churches</td><td>6.071433333333332</td></tr><tr><td>Kirati</td><td>5.922533333333335</td></tr><tr><td>Tribal</td><td>5.892</td></tr><tr><td>Te koaua</td><td>5.876333333333334</td></tr><tr><td>Kempsville Presbyterian Church</td><td>5.876333333333334</td></tr><tr><td>Protestant Evangelical</td><td>5.775600000000001</td></tr><tr><td>Ethiopian Churches</td><td>5.7451333333333325</td></tr><tr><td>Other Presbyterian Churches</td><td>5.7451333333333325</td></tr><tr><td>Other Zionist Churches</td><td>5.7451333333333325</td></tr><tr><td>Bandla Lama Nazaretha</td><td>5.7451333333333325</td></tr><tr><td>Other African Independent Churches</td><td>5.7451333333333325</td></tr><tr><td>Zion Christian Church</td><td>5.7451333333333325</td></tr><tr><td>Ibandlalama Nazaretha</td><td>5.7451333333333325</td></tr><tr><td>St. John's Apostolic Church</td><td>5.7451333333333325</td></tr><tr><td>Other African Apostolic Churches</td><td>5.7451333333333325</td></tr><tr><td>Other Faiths</td><td>5.7451333333333325</td></tr><tr><td>African Traditional Belief</td><td>5.7451333333333325</td></tr><tr><td>Afrikaanse Protestante Kerk</td><td>5.7451333333333325</td></tr><tr><td>Other Congregational Churches</td><td>5.7451333333333325</td></tr><tr><td>Other Charismatic Churches</td><td>5.7451333333333325</td></tr><tr><td>Other Pentecostal Churches</td><td>5.7451333333333325</td></tr><tr><td>Other Adventist Churches</td><td>5.7451333333333325</td></tr><tr><td>International Fellowship of Christian Church</td><td>5.7451333333333325</td></tr><tr><td>NA: Institution</td><td>5.7451333333333325</td></tr><tr><td>Pinkster Protestante Kerk</td><td>5.7451333333333325</td></tr><tr><td>St. Engenas Zion Christian Church</td><td>5.7451333333333325</td></tr><tr><td>Apostolic Faith Mission of SA</td><td>5.7451333333333325</td></tr><tr><td>Other Assemblies</td><td>5.7451333333333325</td></tr><tr><td>Nederduits Hervormde Kerk</td><td>5.7451333333333325</td></tr><tr><td>Full Gospel Church of God</td><td>5.7451333333333325</td></tr><tr><td>New Testament Church of God</td><td>5.447999999999997</td></tr><tr><td>Church of God of Prophecy</td><td>5.447999999999997</td></tr><tr><td>Church of God in Jamaica</td><td>5.447999999999997</td></tr><tr><td>Other Church of God</td><td>5.447999999999997</td></tr><tr><td>Not Asked</td><td>5.4442</td></tr><tr><td>Confucianism/Taoism and Other Traditional Chinese</td><td>5.386266666666667</td></tr><tr><td>Bektashism</td><td>5.366533333333333</td></tr><tr><td>Believers without denomination</td><td>5.366533333333333</td></tr><tr><td>Assembly of God</td><td>5.252920398009949</td></tr><tr><td>Candomble</td><td>5.2518</td></tr><tr><td>Roman Apostolic Catholic</td><td>5.2518</td></tr><tr><td>Messianica</td><td>5.2518</td></tr><tr><td>Umbanda e Candomblé</td><td>5.2518</td></tr><tr><td>Umbanda</td><td>5.2518</td></tr><tr><td>Orthodox Catholic</td><td>5.2518</td></tr><tr><td>Other Evangelical Pentecostal</td><td>5.2518</td></tr><tr><td>Christian Congregation of Brazil</td><td>5.2518</td></tr><tr><td>Brasilian Apostolic Catholic</td><td>5.2518</td></tr><tr><td>God is Love</td><td>5.2518</td></tr><tr><td>Universal of the Kingdom of God</td><td>5.2518</td></tr><tr><td>Other Traditional Evangelical</td><td>5.2518</td></tr><tr><td>Espiritia</td><td>5.2518</td></tr><tr><td>Nazarene</td><td>5.1387333333333345</td></tr><tr><td>Confucian</td><td>5.087794871794874</td></tr><tr><td>Christian</td><td>5.012602919708039</td></tr><tr><td>Bengali</td><td>4.949183333333333</td></tr><tr><td>Revived</td><td>4.909422222222224</td></tr><tr><td>Full Gospel Church</td><td>4.856172222222219</td></tr><tr><td>Arya Samajist</td><td>4.816733333333335</td></tr><tr><td>Hindu</td><td>4.658000000000005</td></tr><tr><td>Muslim</td><td>4.656351331496787</td></tr><tr><td>No Religion</td><td>4.654940800000002</td></tr><tr><td>Aryan</td><td>4.640133333333335</td></tr><tr><td>Other Hindu</td><td>4.640133333333335</td></tr><tr><td>Chinese</td><td>4.640133333333335</td></tr><tr><td>Other Muslims</td><td>4.640133333333335</td></tr><tr><td>Vaish</td><td>4.640133333333335</td></tr><tr><td>Marathi & Marathi Hindu</td><td>4.640133333333335</td></tr><tr><td>Mission Salut et Guerison</td><td>4.640133333333335</td></tr><tr><td>Tamil and Tamil Hindu</td><td>4.640133333333335</td></tr><tr><td>Rajput</td><td>4.640133333333335</td></tr><tr><td>Puranic</td><td>4.640133333333335</td></tr><tr><td>Sanatanist</td><td>4.640133333333335</td></tr><tr><td>Telegu and Telegu Hindu</td><td>4.640133333333335</td></tr><tr><td>Christian Tamil</td><td>4.640133333333335</td></tr><tr><td>Ahir</td><td>4.640133333333335</td></tr><tr><td>Kabir Panthis</td><td>4.640133333333335</td></tr><tr><td>Témoin de Jehovah</td><td>4.640133333333335</td></tr><tr><td>Vedic</td><td>4.640133333333335</td></tr><tr><td>Ahmadhya</td><td>4.640133333333335</td></tr><tr><td>Telegu Speaking</td><td>4.640133333333334</td></tr><tr><td>Peniel Tabernacle</td><td>4.640133333333334</td></tr><tr><td>La Voix de la Delivrance</td><td>4.640133333333334</td></tr><tr><td>Other Chinese</td><td>4.640133333333334</td></tr><tr><td>Rabidass</td><td>4.640133333333334</td></tr><tr><td>Arya Samajist, Other</td><td>4.640133333333334</td></tr><tr><td>Mohamedan</td><td>4.640133333333334</td></tr><tr><td>Baboojee</td><td>4.640133333333334</td></tr><tr><td>Eglise Chrétienne</td><td>4.640133333333334</td></tr><tr><td>Islam </td><td>4.541552522255192</td></tr><tr><td>Total</td><td>4.506674196277496</td></tr><tr><td>Catholic</td><td>4.502051407811086</td></tr><tr><td>Other Apostolic Churches</td><td>4.5018666666666665</td></tr><tr><td>Buddhist</td><td>4.483921068249266</td></tr><tr><td>Other Religions</td><td>4.47848070175439</td></tr><tr><td>Moravian</td><td>4.475766666666666</td></tr><tr><td>Other</td><td>4.468773555027717</td></tr><tr><td>Mormon</td><td>4.291324999999998</td></tr><tr><td>Anglican</td><td>4.264357504873287</td></tr><tr><td>Church of God</td><td>4.2527682539682505</td></tr><tr><td>Seventh Day Adventist</td><td>4.225340070921979</td></tr><tr><td>Not Specified</td><td>4.224408602150539</td></tr><tr><td>Protestant</td><td>4.173515267175574</td></tr><tr><td>Elim</td><td>4.166466666666667</td></tr><tr><td>Baha'i</td><td>4.164869866666669</td></tr><tr><td>Church of Tuvalu</td><td>4.1192</td></tr><tr><td>Apostolic Church</td><td>4.1192</td></tr><tr><td>New Testament Church</td><td>4.1192</td></tr><tr><td>Brethren Assembly</td><td>4.1192</td></tr><tr><td>Orisha</td><td>4.118933333333334</td></tr><tr><td>Presbyterian/ Congregational</td><td>4.118933333333334</td></tr><tr><td>Pentecostal/ Evangelical/ Full Gospel</td><td>4.118933333333334</td></tr><tr><td>Bible Baptist</td><td>4.115933333333333</td></tr><tr><td>Jains</td><td>4.090082424242426</td></tr><tr><td>Congregational</td><td>4.084685714285714</td></tr><tr><td>None</td><td>4.0216666666666665</td></tr><tr><td>Latter Day Saints</td><td>4.016724444444439</td></tr><tr><td>Oriental</td><td>4.0150476190476185</td></tr><tr><td>Rastafarian</td><td>4.006647619047614</td></tr><tr><td>Refused to answer</td><td>4.004083333333331</td></tr><tr><td>Jehovah Witness</td><td>3.996689855072472</td></tr><tr><td>No religion, Agnostic, Atheist</td><td>3.986</td></tr><tr><td>Unknown</td><td>3.980767700258398</td></tr><tr><td>Jehovah's Witnesses</td><td>3.965916666666666</td></tr><tr><td>Pentecostal</td><td>3.9447923884514435</td></tr><tr><td>Evangelical</td><td>3.927529718875499</td></tr><tr><td>Church of England</td><td>3.9235388888888902</td></tr><tr><td>Presbyterian</td><td>3.857951351351344</td></tr><tr><td>Christian Science</td><td>3.833293333333334</td></tr><tr><td>Lapsed Roman Catholic</td><td>3.8326666666666678</td></tr><tr><td>Church of Ireland</td><td>3.8326666666666678</td></tr><tr><td>Not Stated</td><td>3.8134898412698384</td></tr><tr><td>Spiritualist</td><td>3.7977719298245556</td></tr><tr><td>Judaism</td><td>3.791321142857151</td></tr><tr><td>Other Christians</td><td>3.7493537953795366</td></tr><tr><td>Mennonite</td><td>3.733066666666664</td></tr><tr><td>Pantheism</td><td>3.7133333333333343</td></tr><tr><td>African Methodist Episcopal Church</td><td>3.7121111111111116</td></tr><tr><td>Shar-fadinian</td><td>3.7024000000000004</td></tr><tr><td>Yeshiva's witness</td><td>3.7024000000000004</td></tr><tr><td>Molokai</td><td>3.7024000000000004</td></tr><tr><td>Adventist</td><td>3.686105660377346</td></tr><tr><td>Apostolic</td><td>3.6850999999999994</td></tr><tr><td>Methodist</td><td>3.638636251920121</td></tr><tr><td>Brethren</td><td>3.6223228070175333</td></tr><tr><td>Sikh</td><td>3.5765074433656907</td></tr><tr><td>United Church</td><td>3.5587577777777737</td></tr><tr><td>Salvation Army</td><td>3.53831428571428</td></tr><tr><td>Roman Catholic</td><td>3.489711421911424</td></tr><tr><td>Islam/Judaism</td><td>3.4472</td></tr><tr><td>Buddhism/ Sikh</td><td>3.4472</td></tr><tr><td>Other Non-Christians</td><td>3.4252500000000006</td></tr><tr><td>Dutch Reformed</td><td>3.413233333333333</td></tr><tr><td>Other Religions and Persuasions</td><td>3.378533333333334</td></tr><tr><td>United Pentecostal</td><td>3.3553333333333337</td></tr><tr><td>Christian Revival Crusade</td><td>3.3553333333333337</td></tr><tr><td>Cook Island Congregational</td><td>3.3553333333333337</td></tr><tr><td>Plymouth Brethren</td><td>3.3553333333333337</td></tr><tr><td>Korean Christian</td><td>3.3553333333333337</td></tr><tr><td>Druid</td><td>3.3553333333333337</td></tr><tr><td>Open Brethren</td><td>3.3553333333333337</td></tr><tr><td>Chinese Christian</td><td>3.3553333333333337</td></tr><tr><td>Liberal Catholic</td><td>3.3553333333333337</td></tr><tr><td>Other Church of Christ</td><td>3.3553333333333337</td></tr><tr><td>Tenrikyo</td><td>3.3553333333333337</td></tr><tr><td>Yoga</td><td>3.3553333333333337</td></tr><tr><td>Zen Buddhist</td><td>3.3553333333333337</td></tr><tr><td>Independent Pentecostal</td><td>3.3553333333333337</td></tr><tr><td>Object</td><td>3.3553333333333337</td></tr><tr><td>Independent Baptist</td><td>3.3553333333333337</td></tr><tr><td>Apostolic Church of New Zealand</td><td>3.3553333333333337</td></tr><tr><td>Religious Society of Friends</td><td>3.3553333333333337</td></tr><tr><td>Brethren Exclusive</td><td>3.3553333333333337</td></tr><tr><td>Hauhau</td><td>3.3553333333333337</td></tr><tr><td>Fundamentalist</td><td>3.3553333333333337</td></tr><tr><td>Tongan Methodist</td><td>3.3553333333333337</td></tr><tr><td>Christian Outreach</td><td>3.3553333333333337</td></tr><tr><td>Metropolitan</td><td>3.3553333333333337</td></tr><tr><td>Wiccan</td><td>3.3553333333333337</td></tr><tr><td>Samoan Congregational</td><td>3.3553333333333337</td></tr><tr><td>Reformed Baptist</td><td>3.3553333333333337</td></tr><tr><td>Commonwealth Covenant Church</td><td>3.3553333333333337</td></tr><tr><td>Theism</td><td>3.3553333333333337</td></tr><tr><td>Associated Churches of Christ</td><td>3.3553333333333337</td></tr><tr><td>Mäori Christian</td><td>3.3553333333333337</td></tr><tr><td>Mahikari</td><td>3.3553333333333337</td></tr><tr><td>Assyrian Orthodox</td><td>3.3553333333333337</td></tr><tr><td>Revival Centres</td><td>3.3553333333333337</td></tr><tr><td>Sufi</td><td>3.3553333333333337</td></tr><tr><td>Unification Church</td><td>3.3553333333333337</td></tr><tr><td>Independent Evangelical Churches</td><td>3.3553333333333337</td></tr><tr><td>New life centres</td><td>3.3553333333333337</td></tr><tr><td>Mäori Religion</td><td>3.3553333333333337</td></tr><tr><td>Born Again Christian</td><td>3.3553333333333337</td></tr><tr><td>Ecumenical</td><td>3.3553333333333337</td></tr><tr><td>Ratana</td><td>3.3553333333333333</td></tr><tr><td>Ringatu</td><td>3.3553333333333333</td></tr><tr><td>Quakers</td><td>3.3540583333333327</td></tr><tr><td>Baptist</td><td>3.348621052631578</td></tr><tr><td>Lutheran</td><td>3.1338726190476156</td></tr><tr><td>Druze</td><td>3.1194333333333337</td></tr><tr><td>Maronite church</td><td>3.103666666666667</td></tr><tr><td>Armenian church</td><td>3.103666666666667</td></tr><tr><td>Christian Orthodox</td><td>3.102233333333333</td></tr><tr><td>Oriental Christian</td><td>3.0966666666666676</td></tr><tr><td>Nature and earth based religions</td><td>3.0837333333333334</td></tr><tr><td>Japanese Religions</td><td>3.0837333333333334</td></tr><tr><td>Chinese Religions</td><td>3.0837333333333334</td></tr><tr><td>Other Reformed Church</td><td>3.0801047619047623</td></tr><tr><td>Taoist</td><td>3.0381708333333335</td></tr><tr><td>Jewish</td><td>3.0316705314009638</td></tr><tr><td>Other Lutheran Churches</td><td>3.0272833333333327</td></tr><tr><td>Presbyterian and Reformed</td><td>3.0158333333333336</td></tr><tr><td>Church of Christ</td><td>3.0103253012048192</td></tr><tr><td>Zoroastrian</td><td>2.9956333333333336</td></tr><tr><td>Orthodox</td><td>2.9917904761904768</td></tr><tr><td>Armenian Orthodox</td><td>2.991422222222221</td></tr><tr><td>New Age</td><td>2.9836708333333335</td></tr><tr><td>Church of Scientology</td><td>2.9737575757575763</td></tr><tr><td>Reformat</td><td>2.9550000000000014</td></tr><tr><td>Greek Orthodox</td><td>2.9318619047619046</td></tr><tr><td>Christadelphian</td><td>2.9236933333333335</td></tr><tr><td>Oriental Orthodox</td><td>2.9026666666666676</td></tr><tr><td>Assyrian Apostolic</td><td>2.9026666666666676</td></tr><tr><td>Zoroastrianism</td><td>2.9026666666666667</td></tr><tr><td>Australian Aboriginal Traditional Religion</td><td>2.9026666666666667</td></tr><tr><td>Religious belief, nfd and Inadequately described</td><td>2.9026666666666667</td></tr><tr><td>Theism, nec</td><td>2.9026666666666667</td></tr><tr><td>Christian nfd</td><td>2.9026666666666663</td></tr><tr><td>Not Declared</td><td>2.8996624999999985</td></tr><tr><td>Russian Orthodox</td><td>2.8757333333333333</td></tr><tr><td>Vineyard Christian Fellowship</td><td>2.8757333333333333</td></tr><tr><td>Coptic Orthodox</td><td>2.8757333333333333</td></tr><tr><td>Worldwide Church of God</td><td>2.8757333333333333</td></tr><tr><td>Christian and Mission Alliance</td><td>2.8757333333333333</td></tr><tr><td>Pagan</td><td>2.8375619047619027</td></tr><tr><td>Satanist</td><td>2.834308333333333</td></tr><tr><td>Agnostic</td><td>2.8206942528735626</td></tr><tr><td>Church of Jesus Christ of Latter-day Saints</td><td>2.79861212121212</td></tr><tr><td>Unitarian</td><td>2.7853083333333317</td></tr><tr><td>Hare Rama Hare Krishna</td><td>2.78104761904762</td></tr><tr><td>Shinto</td><td>2.7725568627450983</td></tr><tr><td>New Apostolic</td><td>2.752056410256409</td></tr><tr><td>Reformed Churches</td><td>2.744769696969697</td></tr><tr><td>Atheist</td><td>2.739004199475063</td></tr><tr><td>Armenian Apostolic</td><td>2.7343625</td></tr><tr><td>Other Orthodox Churches</td><td>2.7314606060606064</td></tr><tr><td>Other Protestant</td><td>2.6771587301587276</td></tr><tr><td>Unification</td><td>2.6633333333333336</td></tr><tr><td>Ethiopian Orthodox</td><td>2.6628000000000003</td></tr><tr><td>Non-denominational</td><td>2.646679999999999</td></tr><tr><td>Antiochian Orthodox Christian</td><td>2.6359333333333335</td></tr><tr><td>Hutterite</td><td>2.6359333333333335</td></tr><tr><td>Church of Nazarene</td><td>2.6359333333333335</td></tr><tr><td>Protestant nfd</td><td>2.6359333333333335</td></tr><tr><td>Wesleyan</td><td>2.6359333333333335</td></tr><tr><td>Brethren in Christ</td><td>2.6359333333333335</td></tr><tr><td>Associated Gospel</td><td>2.6359333333333335</td></tr><tr><td>Reorganized Church of Latter-day Saints</td><td>2.6359333333333335</td></tr><tr><td>Canadian Reformed Church</td><td>2.6359333333333335</td></tr><tr><td>Apostolic Christian Church</td><td>2.6359333333333335</td></tr><tr><td>Standard Church</td><td>2.6359333333333335</td></tr><tr><td>Unity-New Thought-Pantheist</td><td>2.6359333333333335</td></tr><tr><td>Aboriginal spirituality</td><td>2.6359333333333335</td></tr><tr><td>Ukrainian Orthodox</td><td>2.6359333333333335</td></tr><tr><td>Canadian and American Reformed Church</td><td>2.6359333333333335</td></tr><tr><td>Free Methodists</td><td>2.6359333333333335</td></tr><tr><td>Christian or Plymouth Brethren</td><td>2.6359333333333335</td></tr><tr><td>Interdenominational</td><td>2.6359333333333335</td></tr><tr><td>Romanian Orthodox</td><td>2.6359333333333335</td></tr><tr><td>Other Eastern religions</td><td>2.6359333333333335</td></tr><tr><td>Christian Reformed Church</td><td>2.6359333333333335</td></tr><tr><td>Gnostic</td><td>2.6359333333333335</td></tr><tr><td>Scientology</td><td>2.6359333333333335</td></tr><tr><td>Humanist</td><td>2.6359333333333335</td></tr><tr><td>Christian Congregational</td><td>2.6359333333333335</td></tr><tr><td>Evangelical Free Church</td><td>2.6359333333333335</td></tr><tr><td>Swedenborgian (New Church)</td><td>2.6359333333333335</td></tr><tr><td>Charismatic Renewal</td><td>2.6359333333333335</td></tr><tr><td>Evangelical Missionary Church</td><td>2.6359333333333335</td></tr><tr><td>Christians, n.i.e.</td><td>2.6359333333333335</td></tr><tr><td>Doukhobors</td><td>2.6359333333333335</td></tr><tr><td>Mission de l'Esprit Saint</td><td>2.6359333333333335</td></tr><tr><td>Ukrainian Catholic</td><td>2.6359333333333335</td></tr><tr><td>Church of God nos</td><td>2.6359333333333335</td></tr><tr><td>Other Catholic</td><td>2.5686717948717934</td></tr><tr><td>Mosaic</td><td>2.5546666666666678</td></tr><tr><td>Christian of Old Rite</td><td>2.5546666666666678</td></tr><tr><td>Christian by Gospel</td><td>2.5546666666666678</td></tr><tr><td>Eastern Orthodox</td><td>2.5373333333333323</td></tr><tr><td>Polish National Catholic Church</td><td>2.515633333333333</td></tr><tr><td>Evangelic Augustan Confession</td><td>2.501555555555557</td></tr><tr><td>Serbian Orthodox</td><td>2.497413333333335</td></tr><tr><td>Greek Oriental</td><td>2.4326666666666665</td></tr><tr><td>Christengmeinschaft</td><td>2.4326666666666665</td></tr><tr><td>Free Christian Community</td><td>2.4326666666666665</td></tr><tr><td>Christian Community</td><td>2.4326666666666665</td></tr><tr><td>Evangelical Lutherans</td><td>2.4303333333333326</td></tr><tr><td>Denomination not specified</td><td>2.419166666666666</td></tr><tr><td>Armeno-Gregorian</td><td>2.358622222222223</td></tr><tr><td>Orientalists' Cults</td><td>2.3580125</td></tr><tr><td>Word of Faith</td><td>2.3059999999999996</td></tr><tr><td>Neuapostolische Kirche</td><td>2.3059999999999996</td></tr><tr><td>Non-denominational Christian Churches</td><td>2.3059999999999996</td></tr><tr><td>Charismatic Evangelical Church</td><td>2.3059999999999996</td></tr><tr><td>All Gospel Church</td><td>2.3059999999999996</td></tr><tr><td>Evangelical Reformists</td><td>2.305999999999999</td></tr><tr><td>Society for Krishna Consciousness</td><td>2.305999999999999</td></tr><tr><td>Sunni Muslims</td><td>2.305999999999999</td></tr><tr><td>Karaite</td><td>2.305999999999999</td></tr><tr><td>Balts Believers</td><td>2.305999999999999</td></tr><tr><td>Didn't answer</td><td>2.294353333333332</td></tr><tr><td>Old Catholic Church</td><td>2.283983333333333</td></tr><tr><td>Greek Catholic</td><td>2.266324999999998</td></tr><tr><td>Non-believers</td><td>2.24734</td></tr><tr><td>No Afiliation</td><td>2.2397047619047616</td></tr><tr><td>Old Believers</td><td>2.1897333333333324</td></tr><tr><td>Yiddish</td><td>2.1719999999999997</td></tr><tr><td>Islamic Congregation</td><td>2.1213333333333333</td></tr><tr><td>Free Church in Finland</td><td>2.121333333333333</td></tr><tr><td>Charismatic Episcopal Church</td><td>2.015333333333334</td></tr><tr><td>Estonian Ancient Belief</td><td>2.015333333333334</td></tr><tr><td>Ukrainian Greek-Catholic Church</td><td>2.015333333333334</td></tr><tr><td>Church of Charismatic Fellowship</td><td>2.015333333333334</td></tr><tr><td>Church of Christian Fellowship</td><td>2.015333333333334</td></tr><tr><td>Taara or Earth Believer</td><td>2.015333333333334</td></tr><tr><td>Russian Catholic Orthodox Church</td><td>2.015333333333334</td></tr><tr><td>Christian Free Congregations</td><td>2.015333333333334</td></tr><tr><td>Calvinist</td><td>2.004644444444445</td></tr><tr><td>Eastern religion</td><td>1.929933333333334</td></tr><tr><td>None or Refused</td><td>null</td></tr><tr><td>Protestant Reformed</td><td>null</td></tr><tr><td>Protestant Lutheran</td><td>null</td></tr><tr><td>Modekngei</td><td>null</td></tr></tbody></table></div>"
      ]
     },
     "metadata": {
      "application/vnd.databricks.v1+output": {
       "addedWidgets": {},
       "aggData": [],
       "aggError": "",
       "aggOverflow": false,
       "aggSchema": [],
       "aggSeriesLimitReached": false,
       "aggType": "",
       "arguments": {},
       "columnCustomDisplayInfos": {},
       "data": [
        [
         "Worship Centre",
         7.4110000000000005
        ],
        [
         "Peace Chapel",
         7.4110000000000005
        ],
        [
         "Voice of Christ",
         7.4110000000000005
        ],
        [
         "Samoa Evangelism",
         7.4110000000000005
        ],
        [
         "Community Church",
         7.4110000000000005
        ],
        [
         "CCCJS",
         7.4110000000000005
        ],
        [
         "Aoga Tusi Paia",
         7.4110000000000005
        ],
        [
         "Shaman",
         7.379666666666667
        ],
        [
         "Traditional",
         6.644759999999995
        ],
        [
         "Badimo",
         6.627866666666668
        ],
        [
         "Saio/Zione",
         6.619000000000001
        ],
        [
         "Historics",
         6.548533333333335
        ],
        [
         "Custom",
         6.500733333333333
        ],
        [
         "Evangelical Christian",
         6.438599999999999
        ],
        [
         "Non-Apostolic",
         6.414533333333335
        ],
        [
         "Iglesia Evangelista Methodista en Las Filipinas",
         6.397733333333332
        ],
        [
         "Philippine Benevolent Missionaries Association",
         6.397733333333332
        ],
        [
         "Southern Baptist",
         6.397733333333332
        ],
        [
         "International Baptist Missionary Fellowship",
         6.397733333333332
        ],
        [
         "United Methodist Church",
         6.397733333333332
        ],
        [
         "United Church of Christ",
         6.397733333333332
        ],
        [
         "Association of Fundamental Baptist Church in the Philippines",
         6.397733333333332
        ],
        [
         "Episcopal",
         6.397733333333332
        ],
        [
         "Aglipay",
         6.397733333333332
        ],
        [
         "Convention of the Philippine Baptist Church",
         6.397733333333332
        ],
        [
         "Association of Baptist Churches in Luzon, Visayas and Mindanao",
         6.397733333333332
        ],
        [
         "Missionary Baptist Churches of the Philippines",
         6.397733333333332
        ],
        [
         "Iglesia ni Cristo",
         6.397733333333332
        ],
        [
         "Ethnic Churches",
         6.347683333333332
        ],
        [
         "Animist",
         6.241172093023256
        ],
        [
         "Other Evangelical Churches",
         6.236941666666669
        ],
        [
         "Tokaikolo Christian Church",
         6.215333333333334
        ],
        [
         "Free Church of Tonga",
         6.215333333333334
        ],
        [
         "Church of Tonga",
         6.215333333333334
        ],
        [
         "Constitutional Church of Tonga",
         6.215333333333334
        ],
        [
         "Free Wesleyan Church",
         6.215333333333334
        ],
        [
         "Other Methodist Churches",
         6.071433333333332
        ],
        [
         "Other Baptist Churches",
         6.071433333333332
        ],
        [
         "Kirati",
         5.922533333333335
        ],
        [
         "Tribal",
         5.892
        ],
        [
         "Te koaua",
         5.876333333333334
        ],
        [
         "Kempsville Presbyterian Church",
         5.876333333333334
        ],
        [
         "Protestant Evangelical",
         5.775600000000001
        ],
        [
         "Ethiopian Churches",
         5.7451333333333325
        ],
        [
         "Other Presbyterian Churches",
         5.7451333333333325
        ],
        [
         "Other Zionist Churches",
         5.7451333333333325
        ],
        [
         "Bandla Lama Nazaretha",
         5.7451333333333325
        ],
        [
         "Other African Independent Churches",
         5.7451333333333325
        ],
        [
         "Zion Christian Church",
         5.7451333333333325
        ],
        [
         "Ibandlalama Nazaretha",
         5.7451333333333325
        ],
        [
         "St. John's Apostolic Church",
         5.7451333333333325
        ],
        [
         "Other African Apostolic Churches",
         5.7451333333333325
        ],
        [
         "Other Faiths",
         5.7451333333333325
        ],
        [
         "African Traditional Belief",
         5.7451333333333325
        ],
        [
         "Afrikaanse Protestante Kerk",
         5.7451333333333325
        ],
        [
         "Other Congregational Churches",
         5.7451333333333325
        ],
        [
         "Other Charismatic Churches",
         5.7451333333333325
        ],
        [
         "Other Pentecostal Churches",
         5.7451333333333325
        ],
        [
         "Other Adventist Churches",
         5.7451333333333325
        ],
        [
         "International Fellowship of Christian Church",
         5.7451333333333325
        ],
        [
         "NA: Institution",
         5.7451333333333325
        ],
        [
         "Pinkster Protestante Kerk",
         5.7451333333333325
        ],
        [
         "St. Engenas Zion Christian Church",
         5.7451333333333325
        ],
        [
         "Apostolic Faith Mission of SA",
         5.7451333333333325
        ],
        [
         "Other Assemblies",
         5.7451333333333325
        ],
        [
         "Nederduits Hervormde Kerk",
         5.7451333333333325
        ],
        [
         "Full Gospel Church of God",
         5.7451333333333325
        ],
        [
         "New Testament Church of God",
         5.447999999999997
        ],
        [
         "Church of God of Prophecy",
         5.447999999999997
        ],
        [
         "Church of God in Jamaica",
         5.447999999999997
        ],
        [
         "Other Church of God",
         5.447999999999997
        ],
        [
         "Not Asked",
         5.4442
        ],
        [
         "Confucianism/Taoism and Other Traditional Chinese",
         5.386266666666667
        ],
        [
         "Bektashism",
         5.366533333333333
        ],
        [
         "Believers without denomination",
         5.366533333333333
        ],
        [
         "Assembly of God",
         5.252920398009949
        ],
        [
         "Candomble",
         5.2518
        ],
        [
         "Roman Apostolic Catholic",
         5.2518
        ],
        [
         "Messianica",
         5.2518
        ],
        [
         "Umbanda e Candomblé",
         5.2518
        ],
        [
         "Umbanda",
         5.2518
        ],
        [
         "Orthodox Catholic",
         5.2518
        ],
        [
         "Other Evangelical Pentecostal",
         5.2518
        ],
        [
         "Christian Congregation of Brazil",
         5.2518
        ],
        [
         "Brasilian Apostolic Catholic",
         5.2518
        ],
        [
         "God is Love",
         5.2518
        ],
        [
         "Universal of the Kingdom of God",
         5.2518
        ],
        [
         "Other Traditional Evangelical",
         5.2518
        ],
        [
         "Espiritia",
         5.2518
        ],
        [
         "Nazarene",
         5.1387333333333345
        ],
        [
         "Confucian",
         5.087794871794874
        ],
        [
         "Christian",
         5.012602919708039
        ],
        [
         "Bengali",
         4.949183333333333
        ],
        [
         "Revived",
         4.909422222222224
        ],
        [
         "Full Gospel Church",
         4.856172222222219
        ],
        [
         "Arya Samajist",
         4.816733333333335
        ],
        [
         "Hindu",
         4.658000000000005
        ],
        [
         "Muslim",
         4.656351331496787
        ],
        [
         "No Religion",
         4.654940800000002
        ],
        [
         "Aryan",
         4.640133333333335
        ],
        [
         "Other Hindu",
         4.640133333333335
        ],
        [
         "Chinese",
         4.640133333333335
        ],
        [
         "Other Muslims",
         4.640133333333335
        ],
        [
         "Vaish",
         4.640133333333335
        ],
        [
         "Marathi & Marathi Hindu",
         4.640133333333335
        ],
        [
         "Mission Salut et Guerison",
         4.640133333333335
        ],
        [
         "Tamil and Tamil Hindu",
         4.640133333333335
        ],
        [
         "Rajput",
         4.640133333333335
        ],
        [
         "Puranic",
         4.640133333333335
        ],
        [
         "Sanatanist",
         4.640133333333335
        ],
        [
         "Telegu and Telegu Hindu",
         4.640133333333335
        ],
        [
         "Christian Tamil",
         4.640133333333335
        ],
        [
         "Ahir",
         4.640133333333335
        ],
        [
         "Kabir Panthis",
         4.640133333333335
        ],
        [
         "Témoin de Jehovah",
         4.640133333333335
        ],
        [
         "Vedic",
         4.640133333333335
        ],
        [
         "Ahmadhya",
         4.640133333333335
        ],
        [
         "Telegu Speaking",
         4.640133333333334
        ],
        [
         "Peniel Tabernacle",
         4.640133333333334
        ],
        [
         "La Voix de la Delivrance",
         4.640133333333334
        ],
        [
         "Other Chinese",
         4.640133333333334
        ],
        [
         "Rabidass",
         4.640133333333334
        ],
        [
         "Arya Samajist, Other",
         4.640133333333334
        ],
        [
         "Mohamedan",
         4.640133333333334
        ],
        [
         "Baboojee",
         4.640133333333334
        ],
        [
         "Eglise Chrétienne",
         4.640133333333334
        ],
        [
         "Islam ",
         4.541552522255192
        ],
        [
         "Total",
         4.506674196277496
        ],
        [
         "Catholic",
         4.502051407811086
        ],
        [
         "Other Apostolic Churches",
         4.5018666666666665
        ],
        [
         "Buddhist",
         4.483921068249266
        ],
        [
         "Other Religions",
         4.47848070175439
        ],
        [
         "Moravian",
         4.475766666666666
        ],
        [
         "Other",
         4.468773555027717
        ],
        [
         "Mormon",
         4.291324999999998
        ],
        [
         "Anglican",
         4.264357504873287
        ],
        [
         "Church of God",
         4.2527682539682505
        ],
        [
         "Seventh Day Adventist",
         4.225340070921979
        ],
        [
         "Not Specified",
         4.224408602150539
        ],
        [
         "Protestant",
         4.173515267175574
        ],
        [
         "Elim",
         4.166466666666667
        ],
        [
         "Baha'i",
         4.164869866666669
        ],
        [
         "Church of Tuvalu",
         4.1192
        ],
        [
         "Apostolic Church",
         4.1192
        ],
        [
         "New Testament Church",
         4.1192
        ],
        [
         "Brethren Assembly",
         4.1192
        ],
        [
         "Orisha",
         4.118933333333334
        ],
        [
         "Presbyterian/ Congregational",
         4.118933333333334
        ],
        [
         "Pentecostal/ Evangelical/ Full Gospel",
         4.118933333333334
        ],
        [
         "Bible Baptist",
         4.115933333333333
        ],
        [
         "Jains",
         4.090082424242426
        ],
        [
         "Congregational",
         4.084685714285714
        ],
        [
         "None",
         4.0216666666666665
        ],
        [
         "Latter Day Saints",
         4.016724444444439
        ],
        [
         "Oriental",
         4.0150476190476185
        ],
        [
         "Rastafarian",
         4.006647619047614
        ],
        [
         "Refused to answer",
         4.004083333333331
        ],
        [
         "Jehovah Witness",
         3.996689855072472
        ],
        [
         "No religion, Agnostic, Atheist",
         3.986
        ],
        [
         "Unknown",
         3.980767700258398
        ],
        [
         "Jehovah's Witnesses",
         3.965916666666666
        ],
        [
         "Pentecostal",
         3.9447923884514435
        ],
        [
         "Evangelical",
         3.927529718875499
        ],
        [
         "Church of England",
         3.9235388888888902
        ],
        [
         "Presbyterian",
         3.857951351351344
        ],
        [
         "Christian Science",
         3.833293333333334
        ],
        [
         "Lapsed Roman Catholic",
         3.8326666666666678
        ],
        [
         "Church of Ireland",
         3.8326666666666678
        ],
        [
         "Not Stated",
         3.8134898412698384
        ],
        [
         "Spiritualist",
         3.7977719298245556
        ],
        [
         "Judaism",
         3.791321142857151
        ],
        [
         "Other Christians",
         3.7493537953795366
        ],
        [
         "Mennonite",
         3.733066666666664
        ],
        [
         "Pantheism",
         3.7133333333333343
        ],
        [
         "African Methodist Episcopal Church",
         3.7121111111111116
        ],
        [
         "Shar-fadinian",
         3.7024000000000004
        ],
        [
         "Yeshiva's witness",
         3.7024000000000004
        ],
        [
         "Molokai",
         3.7024000000000004
        ],
        [
         "Adventist",
         3.686105660377346
        ],
        [
         "Apostolic",
         3.6850999999999994
        ],
        [
         "Methodist",
         3.638636251920121
        ],
        [
         "Brethren",
         3.6223228070175333
        ],
        [
         "Sikh",
         3.5765074433656907
        ],
        [
         "United Church",
         3.5587577777777737
        ],
        [
         "Salvation Army",
         3.53831428571428
        ],
        [
         "Roman Catholic",
         3.489711421911424
        ],
        [
         "Islam/Judaism",
         3.4472
        ],
        [
         "Buddhism/ Sikh",
         3.4472
        ],
        [
         "Other Non-Christians",
         3.4252500000000006
        ],
        [
         "Dutch Reformed",
         3.413233333333333
        ],
        [
         "Other Religions and Persuasions",
         3.378533333333334
        ],
        [
         "United Pentecostal",
         3.3553333333333337
        ],
        [
         "Christian Revival Crusade",
         3.3553333333333337
        ],
        [
         "Cook Island Congregational",
         3.3553333333333337
        ],
        [
         "Plymouth Brethren",
         3.3553333333333337
        ],
        [
         "Korean Christian",
         3.3553333333333337
        ],
        [
         "Druid",
         3.3553333333333337
        ],
        [
         "Open Brethren",
         3.3553333333333337
        ],
        [
         "Chinese Christian",
         3.3553333333333337
        ],
        [
         "Liberal Catholic",
         3.3553333333333337
        ],
        [
         "Other Church of Christ",
         3.3553333333333337
        ],
        [
         "Tenrikyo",
         3.3553333333333337
        ],
        [
         "Yoga",
         3.3553333333333337
        ],
        [
         "Zen Buddhist",
         3.3553333333333337
        ],
        [
         "Independent Pentecostal",
         3.3553333333333337
        ],
        [
         "Object",
         3.3553333333333337
        ],
        [
         "Independent Baptist",
         3.3553333333333337
        ],
        [
         "Apostolic Church of New Zealand",
         3.3553333333333337
        ],
        [
         "Religious Society of Friends",
         3.3553333333333337
        ],
        [
         "Brethren Exclusive",
         3.3553333333333337
        ],
        [
         "Hauhau",
         3.3553333333333337
        ],
        [
         "Fundamentalist",
         3.3553333333333337
        ],
        [
         "Tongan Methodist",
         3.3553333333333337
        ],
        [
         "Christian Outreach",
         3.3553333333333337
        ],
        [
         "Metropolitan",
         3.3553333333333337
        ],
        [
         "Wiccan",
         3.3553333333333337
        ],
        [
         "Samoan Congregational",
         3.3553333333333337
        ],
        [
         "Reformed Baptist",
         3.3553333333333337
        ],
        [
         "Commonwealth Covenant Church",
         3.3553333333333337
        ],
        [
         "Theism",
         3.3553333333333337
        ],
        [
         "Associated Churches of Christ",
         3.3553333333333337
        ],
        [
         "Mäori Christian",
         3.3553333333333337
        ],
        [
         "Mahikari",
         3.3553333333333337
        ],
        [
         "Assyrian Orthodox",
         3.3553333333333337
        ],
        [
         "Revival Centres",
         3.3553333333333337
        ],
        [
         "Sufi",
         3.3553333333333337
        ],
        [
         "Unification Church",
         3.3553333333333337
        ],
        [
         "Independent Evangelical Churches",
         3.3553333333333337
        ],
        [
         "New life centres",
         3.3553333333333337
        ],
        [
         "Mäori Religion",
         3.3553333333333337
        ],
        [
         "Born Again Christian",
         3.3553333333333337
        ],
        [
         "Ecumenical",
         3.3553333333333337
        ],
        [
         "Ratana",
         3.3553333333333333
        ],
        [
         "Ringatu",
         3.3553333333333333
        ],
        [
         "Quakers",
         3.3540583333333327
        ],
        [
         "Baptist",
         3.348621052631578
        ],
        [
         "Lutheran",
         3.1338726190476156
        ],
        [
         "Druze",
         3.1194333333333337
        ],
        [
         "Maronite church",
         3.103666666666667
        ],
        [
         "Armenian church",
         3.103666666666667
        ],
        [
         "Christian Orthodox",
         3.102233333333333
        ],
        [
         "Oriental Christian",
         3.0966666666666676
        ],
        [
         "Nature and earth based religions",
         3.0837333333333334
        ],
        [
         "Japanese Religions",
         3.0837333333333334
        ],
        [
         "Chinese Religions",
         3.0837333333333334
        ],
        [
         "Other Reformed Church",
         3.0801047619047623
        ],
        [
         "Taoist",
         3.0381708333333335
        ],
        [
         "Jewish",
         3.0316705314009638
        ],
        [
         "Other Lutheran Churches",
         3.0272833333333327
        ],
        [
         "Presbyterian and Reformed",
         3.0158333333333336
        ],
        [
         "Church of Christ",
         3.0103253012048192
        ],
        [
         "Zoroastrian",
         2.9956333333333336
        ],
        [
         "Orthodox",
         2.9917904761904768
        ],
        [
         "Armenian Orthodox",
         2.991422222222221
        ],
        [
         "New Age",
         2.9836708333333335
        ],
        [
         "Church of Scientology",
         2.9737575757575763
        ],
        [
         "Reformat",
         2.9550000000000014
        ],
        [
         "Greek Orthodox",
         2.9318619047619046
        ],
        [
         "Christadelphian",
         2.9236933333333335
        ],
        [
         "Oriental Orthodox",
         2.9026666666666676
        ],
        [
         "Assyrian Apostolic",
         2.9026666666666676
        ],
        [
         "Zoroastrianism",
         2.9026666666666667
        ],
        [
         "Australian Aboriginal Traditional Religion",
         2.9026666666666667
        ],
        [
         "Religious belief, nfd and Inadequately described",
         2.9026666666666667
        ],
        [
         "Theism, nec",
         2.9026666666666667
        ],
        [
         "Christian nfd",
         2.9026666666666663
        ],
        [
         "Not Declared",
         2.8996624999999985
        ],
        [
         "Russian Orthodox",
         2.8757333333333333
        ],
        [
         "Vineyard Christian Fellowship",
         2.8757333333333333
        ],
        [
         "Coptic Orthodox",
         2.8757333333333333
        ],
        [
         "Worldwide Church of God",
         2.8757333333333333
        ],
        [
         "Christian and Mission Alliance",
         2.8757333333333333
        ],
        [
         "Pagan",
         2.8375619047619027
        ],
        [
         "Satanist",
         2.834308333333333
        ],
        [
         "Agnostic",
         2.8206942528735626
        ],
        [
         "Church of Jesus Christ of Latter-day Saints",
         2.79861212121212
        ],
        [
         "Unitarian",
         2.7853083333333317
        ],
        [
         "Hare Rama Hare Krishna",
         2.78104761904762
        ],
        [
         "Shinto",
         2.7725568627450983
        ],
        [
         "New Apostolic",
         2.752056410256409
        ],
        [
         "Reformed Churches",
         2.744769696969697
        ],
        [
         "Atheist",
         2.739004199475063
        ],
        [
         "Armenian Apostolic",
         2.7343625
        ],
        [
         "Other Orthodox Churches",
         2.7314606060606064
        ],
        [
         "Other Protestant",
         2.6771587301587276
        ],
        [
         "Unification",
         2.6633333333333336
        ],
        [
         "Ethiopian Orthodox",
         2.6628000000000003
        ],
        [
         "Non-denominational",
         2.646679999999999
        ],
        [
         "Antiochian Orthodox Christian",
         2.6359333333333335
        ],
        [
         "Hutterite",
         2.6359333333333335
        ],
        [
         "Church of Nazarene",
         2.6359333333333335
        ],
        [
         "Protestant nfd",
         2.6359333333333335
        ],
        [
         "Wesleyan",
         2.6359333333333335
        ],
        [
         "Brethren in Christ",
         2.6359333333333335
        ],
        [
         "Associated Gospel",
         2.6359333333333335
        ],
        [
         "Reorganized Church of Latter-day Saints",
         2.6359333333333335
        ],
        [
         "Canadian Reformed Church",
         2.6359333333333335
        ],
        [
         "Apostolic Christian Church",
         2.6359333333333335
        ],
        [
         "Standard Church",
         2.6359333333333335
        ],
        [
         "Unity-New Thought-Pantheist",
         2.6359333333333335
        ],
        [
         "Aboriginal spirituality",
         2.6359333333333335
        ],
        [
         "Ukrainian Orthodox",
         2.6359333333333335
        ],
        [
         "Canadian and American Reformed Church",
         2.6359333333333335
        ],
        [
         "Free Methodists",
         2.6359333333333335
        ],
        [
         "Christian or Plymouth Brethren",
         2.6359333333333335
        ],
        [
         "Interdenominational",
         2.6359333333333335
        ],
        [
         "Romanian Orthodox",
         2.6359333333333335
        ],
        [
         "Other Eastern religions",
         2.6359333333333335
        ],
        [
         "Christian Reformed Church",
         2.6359333333333335
        ],
        [
         "Gnostic",
         2.6359333333333335
        ],
        [
         "Scientology",
         2.6359333333333335
        ],
        [
         "Humanist",
         2.6359333333333335
        ],
        [
         "Christian Congregational",
         2.6359333333333335
        ],
        [
         "Evangelical Free Church",
         2.6359333333333335
        ],
        [
         "Swedenborgian (New Church)",
         2.6359333333333335
        ],
        [
         "Charismatic Renewal",
         2.6359333333333335
        ],
        [
         "Evangelical Missionary Church",
         2.6359333333333335
        ],
        [
         "Christians, n.i.e.",
         2.6359333333333335
        ],
        [
         "Doukhobors",
         2.6359333333333335
        ],
        [
         "Mission de l'Esprit Saint",
         2.6359333333333335
        ],
        [
         "Ukrainian Catholic",
         2.6359333333333335
        ],
        [
         "Church of God nos",
         2.6359333333333335
        ],
        [
         "Other Catholic",
         2.5686717948717934
        ],
        [
         "Mosaic",
         2.5546666666666678
        ],
        [
         "Christian of Old Rite",
         2.5546666666666678
        ],
        [
         "Christian by Gospel",
         2.5546666666666678
        ],
        [
         "Eastern Orthodox",
         2.5373333333333323
        ],
        [
         "Polish National Catholic Church",
         2.515633333333333
        ],
        [
         "Evangelic Augustan Confession",
         2.501555555555557
        ],
        [
         "Serbian Orthodox",
         2.497413333333335
        ],
        [
         "Greek Oriental",
         2.4326666666666665
        ],
        [
         "Christengmeinschaft",
         2.4326666666666665
        ],
        [
         "Free Christian Community",
         2.4326666666666665
        ],
        [
         "Christian Community",
         2.4326666666666665
        ],
        [
         "Evangelical Lutherans",
         2.4303333333333326
        ],
        [
         "Denomination not specified",
         2.419166666666666
        ],
        [
         "Armeno-Gregorian",
         2.358622222222223
        ],
        [
         "Orientalists' Cults",
         2.3580125
        ],
        [
         "Word of Faith",
         2.3059999999999996
        ],
        [
         "Neuapostolische Kirche",
         2.3059999999999996
        ],
        [
         "Non-denominational Christian Churches",
         2.3059999999999996
        ],
        [
         "Charismatic Evangelical Church",
         2.3059999999999996
        ],
        [
         "All Gospel Church",
         2.3059999999999996
        ],
        [
         "Evangelical Reformists",
         2.305999999999999
        ],
        [
         "Society for Krishna Consciousness",
         2.305999999999999
        ],
        [
         "Sunni Muslims",
         2.305999999999999
        ],
        [
         "Karaite",
         2.305999999999999
        ],
        [
         "Balts Believers",
         2.305999999999999
        ],
        [
         "Didn't answer",
         2.294353333333332
        ],
        [
         "Old Catholic Church",
         2.283983333333333
        ],
        [
         "Greek Catholic",
         2.266324999999998
        ],
        [
         "Non-believers",
         2.24734
        ],
        [
         "No Afiliation",
         2.2397047619047616
        ],
        [
         "Old Believers",
         2.1897333333333324
        ],
        [
         "Yiddish",
         2.1719999999999997
        ],
        [
         "Islamic Congregation",
         2.1213333333333333
        ],
        [
         "Free Church in Finland",
         2.121333333333333
        ],
        [
         "Charismatic Episcopal Church",
         2.015333333333334
        ],
        [
         "Estonian Ancient Belief",
         2.015333333333334
        ],
        [
         "Ukrainian Greek-Catholic Church",
         2.015333333333334
        ],
        [
         "Church of Charismatic Fellowship",
         2.015333333333334
        ],
        [
         "Church of Christian Fellowship",
         2.015333333333334
        ],
        [
         "Taara or Earth Believer",
         2.015333333333334
        ],
        [
         "Russian Catholic Orthodox Church",
         2.015333333333334
        ],
        [
         "Christian Free Congregations",
         2.015333333333334
        ],
        [
         "Calvinist",
         2.004644444444445
        ],
        [
         "Eastern religion",
         1.929933333333334
        ],
        [
         "None or Refused",
         null
        ],
        [
         "Protestant Reformed",
         null
        ],
        [
         "Protestant Lutheran",
         null
        ],
        [
         "Modekngei",
         null
        ]
       ],
       "datasetInfos": [],
       "dbfsResultPath": null,
       "isJsonSchema": true,
       "metadata": {},
       "overflow": false,
       "plotOptions": {
        "customPlotOptions": {},
        "displayType": "table",
        "pivotAggregation": null,
        "pivotColumns": null,
        "xColumns": null,
        "yColumns": null
       },
       "removedWidgets": [],
       "schema": [
        {
         "metadata": "{}",
         "name": "Religion",
         "type": "\"string\""
        },
        {
         "metadata": "{}",
         "name": "indice_religiao",
         "type": "\"double\""
        }
       ],
       "type": "table"
      }
     },
     "output_type": "display_data"
    }
   ],
   "source": [
    "indice_religioes = (religions\n",
    "                                     .join(birth_rate,\n",
    "                                           religions['Country or Area'] == birth_rate['Country Name'])\n",
    "                                     .withColumn(\"indice_religiao\",\n",
    "                                    ((col(\"1961\") + col(\"1962\") + col(\"1963\") + col(\"1964\") + col(\"1965\")\n",
    "                                     +col(\"1966\") + col(\"1967\") + col(\"1968\") + col(\"1969\") + col(\"1970\")\n",
    "                                     +col(\"1971\") + col(\"1972\") + col(\"1973\") + col(\"1974\") + col(\"1975\"))/15))\n",
    "                                     .select(\"Religion\",\"indice_religiao\"))\n",
    "\n",
    "indice_religioes_grouped = (indice_religioes.groupBy(\"Religion\")\n",
    "                .agg(avg(\"indice_religiao\").alias(\"indice_religiao\"))\n",
    "                .sort(col(\"indice_religiao\").desc())\n",
    "                .select(\"Religion\", \"indice_religiao\"))\n",
    "\n",
    "indice_religioes_grouped.display()"
   ]
  },
  {
   "cell_type": "code",
   "execution_count": 0,
   "metadata": {
    "application/vnd.databricks.v1+cell": {
     "cellMetadata": {
      "byteLimit": 2048000,
      "rowLimit": 10000
     },
     "inputWidgets": {},
     "nuid": "4483fdf7-80b6-439a-ae2e-4b8f505e38ff",
     "showTitle": true,
     "title": "Religião que registrou fieis com maior índice de fertilidade 5 após Segunda guerra mundial"
    }
   },
   "outputs": [
    {
     "output_type": "display_data",
     "data": {
      "text/html": [
       "<style scoped>\n",
       "  .table-result-container {\n",
       "    max-height: 300px;\n",
       "    overflow: auto;\n",
       "  }\n",
       "  table, th, td {\n",
       "    border: 1px solid black;\n",
       "    border-collapse: collapse;\n",
       "  }\n",
       "  th, td {\n",
       "    padding: 5px;\n",
       "  }\n",
       "  th {\n",
       "    text-align: left;\n",
       "  }\n",
       "</style><div class='table-result-container'><table class='table-result'><thead style='background-color: white'><tr><th>Religion</th><th>indice_religiao</th></tr></thead><tbody><tr><td>Worship Centre</td><td>7.652199999999998</td></tr><tr><td>Peace Chapel</td><td>7.652199999999998</td></tr><tr><td>Voice of Christ</td><td>7.652199999999998</td></tr><tr><td>Samoa Evangelism</td><td>7.652199999999998</td></tr><tr><td>Community Church</td><td>7.652199999999998</td></tr><tr><td>CCCJS</td><td>7.652199999999998</td></tr><tr><td>Aoga Tusi Paia</td><td>7.652199999999998</td></tr><tr><td>Shaman</td><td>7.3122</td></tr><tr><td>Iglesia Evangelista Methodista en Las Filipinas</td><td>6.9403999999999995</td></tr><tr><td>Philippine Benevolent Missionaries Association</td><td>6.9403999999999995</td></tr><tr><td>Southern Baptist</td><td>6.9403999999999995</td></tr><tr><td>International Baptist Missionary Fellowship</td><td>6.9403999999999995</td></tr><tr><td>United Methodist Church</td><td>6.9403999999999995</td></tr><tr><td>United Church of Christ</td><td>6.9403999999999995</td></tr><tr><td>Association of Fundamental Baptist Church in the Philippines</td><td>6.9403999999999995</td></tr><tr><td>Episcopal</td><td>6.9403999999999995</td></tr><tr><td>Aglipay</td><td>6.9403999999999995</td></tr><tr><td>Convention of the Philippine Baptist Church</td><td>6.9403999999999995</td></tr><tr><td>Association of Baptist Churches in Luzon, Visayas and Mindanao</td><td>6.9403999999999995</td></tr><tr><td>Missionary Baptist Churches of the Philippines</td><td>6.9403999999999995</td></tr><tr><td>Iglesia ni Cristo</td><td>6.9403999999999995</td></tr><tr><td>Evangelical Christian</td><td>6.8472</td></tr><tr><td>Historics</td><td>6.809200000000001</td></tr><tr><td>Traditional</td><td>6.788040000000004</td></tr><tr><td>Constitutional Church of Tonga</td><td>6.7635999999999985</td></tr><tr><td>Tokaikolo Christian Church</td><td>6.763599999999998</td></tr><tr><td>Free Church of Tonga</td><td>6.763599999999998</td></tr><tr><td>Church of Tonga</td><td>6.763599999999998</td></tr><tr><td>Free Wesleyan Church</td><td>6.763599999999998</td></tr><tr><td>Custom</td><td>6.7298</td></tr><tr><td>Badimo</td><td>6.635</td></tr><tr><td>Ethnic Churches</td><td>6.623</td></tr><tr><td>Tribal</td><td>6.5383</td></tr><tr><td>Other Methodist Churches</td><td>6.502399999999999</td></tr><tr><td>Other Baptist Churches</td><td>6.502399999999999</td></tr><tr><td>Other Evangelical Churches</td><td>6.502325000000002</td></tr><tr><td>Te koaua</td><td>6.488400000000001</td></tr><tr><td>Kempsville Presbyterian Church</td><td>6.488400000000001</td></tr><tr><td>Saio/Zione</td><td>6.476</td></tr><tr><td>Non-Apostolic</td><td>6.3058000000000005</td></tr><tr><td>Animist</td><td>6.270958139534885</td></tr><tr><td>Protestant Evangelical</td><td>6.1476</td></tr><tr><td>Confucianism/Taoism and Other Traditional Chinese</td><td>6.136200000000001</td></tr><tr><td>Other Presbyterian Churches</td><td>6.064400000000002</td></tr><tr><td>Bandla Lama Nazaretha</td><td>6.064400000000002</td></tr><tr><td>Ibandlalama Nazaretha</td><td>6.064400000000002</td></tr><tr><td>St. John's Apostolic Church</td><td>6.064400000000002</td></tr><tr><td>Other African Apostolic Churches</td><td>6.064400000000002</td></tr><tr><td>Other Faiths</td><td>6.064400000000002</td></tr><tr><td>Afrikaanse Protestante Kerk</td><td>6.064400000000002</td></tr><tr><td>Other Congregational Churches</td><td>6.064400000000002</td></tr><tr><td>Other Charismatic Churches</td><td>6.064400000000002</td></tr><tr><td>Other Pentecostal Churches</td><td>6.064400000000002</td></tr><tr><td>Other Adventist Churches</td><td>6.064400000000002</td></tr><tr><td>International Fellowship of Christian Church</td><td>6.064400000000002</td></tr><tr><td>NA: Institution</td><td>6.064400000000002</td></tr><tr><td>Pinkster Protestante Kerk</td><td>6.064400000000002</td></tr><tr><td>St. Engenas Zion Christian Church</td><td>6.064400000000002</td></tr><tr><td>Other Assemblies</td><td>6.064400000000002</td></tr><tr><td>Nederduits Hervormde Kerk</td><td>6.064400000000002</td></tr><tr><td>Full Gospel Church of God</td><td>6.064400000000002</td></tr><tr><td>Ethiopian Churches</td><td>6.0644</td></tr><tr><td>Other Zionist Churches</td><td>6.0644</td></tr><tr><td>Other African Independent Churches</td><td>6.0644</td></tr><tr><td>Zion Christian Church</td><td>6.0644</td></tr><tr><td>African Traditional Belief</td><td>6.0644</td></tr><tr><td>Apostolic Faith Mission of SA</td><td>6.0644</td></tr><tr><td>Bengali</td><td>6.060600000000001</td></tr><tr><td>Kirati</td><td>6.059399999999999</td></tr><tr><td>Bektashism</td><td>6.0158000000000005</td></tr><tr><td>Believers without denomination</td><td>6.0158000000000005</td></tr><tr><td>Arya Samajist</td><td>5.999485714285718</td></tr><tr><td>Assembly of God</td><td>5.972170149253733</td></tr><tr><td>Aryan</td><td>5.918000000000003</td></tr><tr><td>Other Hindu</td><td>5.918000000000003</td></tr><tr><td>Chinese</td><td>5.918000000000003</td></tr><tr><td>Other Muslims</td><td>5.918000000000003</td></tr><tr><td>Vaish</td><td>5.918000000000003</td></tr><tr><td>Marathi & Marathi Hindu</td><td>5.918000000000003</td></tr><tr><td>Mission Salut et Guerison</td><td>5.918000000000003</td></tr><tr><td>Tamil and Tamil Hindu</td><td>5.918000000000003</td></tr><tr><td>Rajput</td><td>5.918000000000003</td></tr><tr><td>Puranic</td><td>5.918000000000003</td></tr><tr><td>Sanatanist</td><td>5.918000000000003</td></tr><tr><td>Telegu and Telegu Hindu</td><td>5.918000000000003</td></tr><tr><td>Christian Tamil</td><td>5.918000000000003</td></tr><tr><td>Ahir</td><td>5.918000000000003</td></tr><tr><td>Kabir Panthis</td><td>5.918000000000003</td></tr><tr><td>Témoin de Jehovah</td><td>5.918000000000003</td></tr><tr><td>Vedic</td><td>5.918000000000003</td></tr><tr><td>Ahmadhya</td><td>5.918000000000003</td></tr><tr><td>Telegu Speaking</td><td>5.918</td></tr><tr><td>Peniel Tabernacle</td><td>5.918</td></tr><tr><td>La Voix de la Delivrance</td><td>5.918</td></tr><tr><td>Other Chinese</td><td>5.918</td></tr><tr><td>Rabidass</td><td>5.918</td></tr><tr><td>Arya Samajist, Other</td><td>5.918</td></tr><tr><td>Mohamedan</td><td>5.918</td></tr><tr><td>Baboojee</td><td>5.918</td></tr><tr><td>Eglise Chrétienne</td><td>5.918</td></tr><tr><td>Candomble</td><td>5.892200000000002</td></tr><tr><td>Roman Apostolic Catholic</td><td>5.892200000000002</td></tr><tr><td>Messianica</td><td>5.892200000000002</td></tr><tr><td>Umbanda e Candomblé</td><td>5.892200000000002</td></tr><tr><td>Umbanda</td><td>5.892200000000002</td></tr><tr><td>Orthodox Catholic</td><td>5.892200000000002</td></tr><tr><td>Other Evangelical Pentecostal</td><td>5.892200000000002</td></tr><tr><td>Christian Congregation of Brazil</td><td>5.892200000000002</td></tr><tr><td>Brasilian Apostolic Catholic</td><td>5.892200000000002</td></tr><tr><td>God is Love</td><td>5.892200000000002</td></tr><tr><td>Universal of the Kingdom of God</td><td>5.892200000000002</td></tr><tr><td>Other Traditional Evangelical</td><td>5.892200000000002</td></tr><tr><td>Espiritia</td><td>5.892200000000002</td></tr><tr><td>Revived</td><td>5.79626666666667</td></tr><tr><td>Not Asked</td><td>5.598599999999999</td></tr><tr><td>Confucian</td><td>5.562938461538458</td></tr><tr><td>New Testament Church of God</td><td>5.552800000000001</td></tr><tr><td>Church of God of Prophecy</td><td>5.552800000000001</td></tr><tr><td>Church of God in Jamaica</td><td>5.552800000000001</td></tr><tr><td>Other Church of God</td><td>5.552800000000001</td></tr><tr><td>Full Gospel Church</td><td>5.5268833333333305</td></tr><tr><td>Nazarene</td><td>5.480466666666664</td></tr><tr><td>Christian</td><td>5.3639664233576765</td></tr><tr><td>Hindu</td><td>5.087611799410039</td></tr><tr><td>Orisha</td><td>5.0038</td></tr><tr><td>Presbyterian/ Congregational</td><td>5.0038</td></tr><tr><td>Pentecostal/ Evangelical/ Full Gospel</td><td>5.0038</td></tr><tr><td>Moravian</td><td>4.967955555555555</td></tr><tr><td>No Religion</td><td>4.964035200000002</td></tr><tr><td>Islam </td><td>4.960287240356082</td></tr><tr><td>Buddhist</td><td>4.915932344213662</td></tr><tr><td>Muslim</td><td>4.8655085399449005</td></tr><tr><td>Other Religions</td><td>4.82398947368419</td></tr><tr><td>Church of God</td><td>4.8074857142857175</td></tr><tr><td>Total</td><td>4.794182741116756</td></tr><tr><td>Church of England</td><td>4.773400000000002</td></tr><tr><td>Catholic</td><td>4.755952043596733</td></tr><tr><td>Bible Baptist</td><td>4.7185999999999995</td></tr><tr><td>Mormon</td><td>4.7156125000000015</td></tr><tr><td>Elim</td><td>4.712840000000001</td></tr><tr><td>Anglican</td><td>4.710369590643266</td></tr><tr><td>Other</td><td>4.693871258907381</td></tr><tr><td>Other Apostolic Churches</td><td>4.6856</td></tr><tr><td>Jains</td><td>4.623225454545458</td></tr><tr><td>Church of Tuvalu</td><td>4.575</td></tr><tr><td>Apostolic Church</td><td>4.575</td></tr><tr><td>New Testament Church</td><td>4.575</td></tr><tr><td>Brethren Assembly</td><td>4.575</td></tr><tr><td>Baha'i</td><td>4.574424800000001</td></tr><tr><td>No religion, Agnostic, Atheist</td><td>4.5228</td></tr><tr><td>Rastafarian</td><td>4.511750000000001</td></tr><tr><td>Congregational</td><td>4.508085714285715</td></tr><tr><td>Seventh Day Adventist</td><td>4.486777659574465</td></tr><tr><td>Presbyterian</td><td>4.4843621621621645</td></tr><tr><td>Not Specified</td><td>4.47023870967743</td></tr><tr><td>Christian Science</td><td>4.3952800000000005</td></tr><tr><td>Latter Day Saints</td><td>4.394493333333332</td></tr><tr><td>Protestant</td><td>4.376111450381677</td></tr><tr><td>Jehovah Witness</td><td>4.350113043478263</td></tr><tr><td>None</td><td>4.335470588235292</td></tr><tr><td>Shar-fadinian</td><td>4.3348</td></tr><tr><td>Yeshiva's witness</td><td>4.3348</td></tr><tr><td>Molokai</td><td>4.3348</td></tr><tr><td>Evangelical</td><td>4.333530120481931</td></tr><tr><td>African Methodist Episcopal Church</td><td>4.318800000000001</td></tr><tr><td>Spiritualist</td><td>4.314410526315789</td></tr><tr><td>Refused to answer</td><td>4.267835</td></tr><tr><td>Pentecostal</td><td>4.260581102362213</td></tr><tr><td>Other Religions and Persuasions</td><td>4.2596</td></tr><tr><td>Mennonite</td><td>4.248338461538463</td></tr><tr><td>Unknown</td><td>4.237913953488366</td></tr><tr><td>Jehovah's Witnesses</td><td>4.232100000000001</td></tr><tr><td>Not Stated</td><td>4.212321904761899</td></tr><tr><td>Oriental</td><td>4.188485714285714</td></tr><tr><td>Other Christians</td><td>4.182430693069309</td></tr><tr><td>Dutch Reformed</td><td>4.157900000000001</td></tr><tr><td>Adventist</td><td>4.135981132075473</td></tr><tr><td>Sikh</td><td>4.1113359223301</td></tr><tr><td>Salvation Army</td><td>4.075845714285718</td></tr><tr><td>Judaism</td><td>4.053174857142858</td></tr><tr><td>Methodist</td><td>4.048839631336408</td></tr><tr><td>United Church</td><td>4.041186666666667</td></tr><tr><td>Brethren</td><td>3.9933736842105274</td></tr><tr><td>Apostolic</td><td>3.9916555555555573</td></tr><tr><td>Object</td><td>3.978000000000001</td></tr><tr><td>Brethren Exclusive</td><td>3.978000000000001</td></tr><tr><td>Hauhau</td><td>3.978000000000001</td></tr><tr><td>Commonwealth Covenant Church</td><td>3.978000000000001</td></tr><tr><td>Revival Centres</td><td>3.978000000000001</td></tr><tr><td>United Pentecostal</td><td>3.9780000000000006</td></tr><tr><td>Christian Revival Crusade</td><td>3.9780000000000006</td></tr><tr><td>Cook Island Congregational</td><td>3.9780000000000006</td></tr><tr><td>Plymouth Brethren</td><td>3.9780000000000006</td></tr><tr><td>Korean Christian</td><td>3.9780000000000006</td></tr><tr><td>Druid</td><td>3.9780000000000006</td></tr><tr><td>Open Brethren</td><td>3.9780000000000006</td></tr><tr><td>Chinese Christian</td><td>3.9780000000000006</td></tr><tr><td>Liberal Catholic</td><td>3.9780000000000006</td></tr><tr><td>Other Church of Christ</td><td>3.9780000000000006</td></tr><tr><td>Tenrikyo</td><td>3.9780000000000006</td></tr><tr><td>Yoga</td><td>3.9780000000000006</td></tr><tr><td>Zen Buddhist</td><td>3.9780000000000006</td></tr><tr><td>Independent Pentecostal</td><td>3.9780000000000006</td></tr><tr><td>Independent Baptist</td><td>3.9780000000000006</td></tr><tr><td>Apostolic Church of New Zealand</td><td>3.9780000000000006</td></tr><tr><td>Religious Society of Friends</td><td>3.9780000000000006</td></tr><tr><td>Fundamentalist</td><td>3.9780000000000006</td></tr><tr><td>Tongan Methodist</td><td>3.9780000000000006</td></tr><tr><td>Christian Outreach</td><td>3.9780000000000006</td></tr><tr><td>Metropolitan</td><td>3.9780000000000006</td></tr><tr><td>Wiccan</td><td>3.9780000000000006</td></tr><tr><td>Samoan Congregational</td><td>3.9780000000000006</td></tr><tr><td>Reformed Baptist</td><td>3.9780000000000006</td></tr><tr><td>Theism</td><td>3.9780000000000006</td></tr><tr><td>Associated Churches of Christ</td><td>3.9780000000000006</td></tr><tr><td>Mäori Christian</td><td>3.9780000000000006</td></tr><tr><td>Mahikari</td><td>3.9780000000000006</td></tr><tr><td>Assyrian Orthodox</td><td>3.9780000000000006</td></tr><tr><td>Sufi</td><td>3.9780000000000006</td></tr><tr><td>Unification Church</td><td>3.9780000000000006</td></tr><tr><td>Independent Evangelical Churches</td><td>3.9780000000000006</td></tr><tr><td>New life centres</td><td>3.9780000000000006</td></tr><tr><td>Mäori Religion</td><td>3.9780000000000006</td></tr><tr><td>Born Again Christian</td><td>3.9780000000000006</td></tr><tr><td>Ecumenical</td><td>3.9780000000000006</td></tr><tr><td>Ratana</td><td>3.9779999999999998</td></tr><tr><td>Ringatu</td><td>3.9779999999999998</td></tr><tr><td>Pantheism</td><td>3.9674999999999994</td></tr><tr><td>Lapsed Roman Catholic</td><td>3.963999999999999</td></tr><tr><td>Church of Ireland</td><td>3.963999999999999</td></tr><tr><td>Islam/Judaism</td><td>3.9226000000000005</td></tr><tr><td>Buddhism/ Sikh</td><td>3.9226000000000005</td></tr><tr><td>Other Reformed Church</td><td>3.885542857142857</td></tr><tr><td>Roman Catholic</td><td>3.8262489510489597</td></tr><tr><td>Quakers</td><td>3.7992749999999997</td></tr><tr><td>Armenian Orthodox</td><td>3.7932000000000015</td></tr><tr><td>Zoroastrian</td><td>3.7501999999999973</td></tr><tr><td>Christadelphian</td><td>3.7046399999999973</td></tr><tr><td>Taoist</td><td>3.6911749999999977</td></tr><tr><td>Russian Orthodox</td><td>3.6742666666666643</td></tr><tr><td>Vineyard Christian Fellowship</td><td>3.6742666666666643</td></tr><tr><td>Coptic Orthodox</td><td>3.6742666666666643</td></tr><tr><td>Worldwide Church of God</td><td>3.6742666666666643</td></tr><tr><td>Christian and Mission Alliance</td><td>3.6742666666666643</td></tr><tr><td>Other Non-Christians</td><td>3.6669249999999995</td></tr><tr><td>Baptist</td><td>3.6460526315789576</td></tr><tr><td>Christian Orthodox</td><td>3.643050000000001</td></tr><tr><td>Oriental Christian</td><td>3.5833714285714287</td></tr><tr><td>Greek Orthodox</td><td>3.5783428571428564</td></tr><tr><td>Nature and earth based religions</td><td>3.5636400000000013</td></tr><tr><td>Japanese Religions</td><td>3.5636400000000013</td></tr><tr><td>Chinese Religions</td><td>3.5636400000000013</td></tr><tr><td>New Age</td><td>3.5531749999999995</td></tr><tr><td>Hutterite</td><td>3.5224000000000006</td></tr><tr><td>Canadian Reformed Church</td><td>3.5224000000000006</td></tr><tr><td>Standard Church</td><td>3.5224000000000006</td></tr><tr><td>Canadian and American Reformed Church</td><td>3.5224000000000006</td></tr><tr><td>Other Eastern religions</td><td>3.5224000000000006</td></tr><tr><td>Church of God nos</td><td>3.5224000000000006</td></tr><tr><td>Antiochian Orthodox Christian</td><td>3.5223999999999993</td></tr><tr><td>Church of Nazarene</td><td>3.5223999999999993</td></tr><tr><td>Protestant nfd</td><td>3.5223999999999993</td></tr><tr><td>Wesleyan</td><td>3.5223999999999993</td></tr><tr><td>Brethren in Christ</td><td>3.5223999999999993</td></tr><tr><td>Associated Gospel</td><td>3.5223999999999993</td></tr><tr><td>Reorganized Church of Latter-day Saints</td><td>3.5223999999999993</td></tr><tr><td>Apostolic Christian Church</td><td>3.5223999999999993</td></tr><tr><td>Unity-New Thought-Pantheist</td><td>3.5223999999999993</td></tr><tr><td>Aboriginal spirituality</td><td>3.5223999999999993</td></tr><tr><td>Ukrainian Orthodox</td><td>3.5223999999999993</td></tr><tr><td>Free Methodists</td><td>3.5223999999999993</td></tr><tr><td>Christian or Plymouth Brethren</td><td>3.5223999999999993</td></tr><tr><td>Interdenominational</td><td>3.5223999999999993</td></tr><tr><td>Romanian Orthodox</td><td>3.5223999999999993</td></tr><tr><td>Christian Reformed Church</td><td>3.5223999999999993</td></tr><tr><td>Gnostic</td><td>3.5223999999999993</td></tr><tr><td>Scientology</td><td>3.5223999999999993</td></tr><tr><td>Humanist</td><td>3.5223999999999993</td></tr><tr><td>Christian Congregational</td><td>3.5223999999999993</td></tr><tr><td>Evangelical Free Church</td><td>3.5223999999999993</td></tr><tr><td>Swedenborgian (New Church)</td><td>3.5223999999999993</td></tr><tr><td>Charismatic Renewal</td><td>3.5223999999999993</td></tr><tr><td>Evangelical Missionary Church</td><td>3.5223999999999993</td></tr><tr><td>Christians, n.i.e.</td><td>3.5223999999999993</td></tr><tr><td>Doukhobors</td><td>3.5223999999999993</td></tr><tr><td>Mission de l'Esprit Saint</td><td>3.5223999999999993</td></tr><tr><td>Ukrainian Catholic</td><td>3.5223999999999993</td></tr><tr><td>Lutheran</td><td>3.516003571428572</td></tr><tr><td>Church of Christ</td><td>3.515669879518075</td></tr><tr><td>Maronite church</td><td>3.5004000000000004</td></tr><tr><td>Armenian church</td><td>3.5004000000000004</td></tr><tr><td>Other Lutheran Churches</td><td>3.4885999999999995</td></tr><tr><td>Pagan</td><td>3.460142857142859</td></tr><tr><td>Presbyterian and Reformed</td><td>3.4600499999999994</td></tr><tr><td>Non-denominational</td><td>3.449440000000002</td></tr><tr><td>Shinto</td><td>3.445952941176469</td></tr><tr><td>Other Orthodox Churches</td><td>3.428981818181817</td></tr><tr><td>Druze</td><td>3.4248499999999997</td></tr><tr><td>Jewish</td><td>3.424156521739127</td></tr><tr><td>Satanist</td><td>3.4227749999999997</td></tr><tr><td>Church of Scientology</td><td>3.3925454545454525</td></tr><tr><td>Ethiopian Orthodox</td><td>3.340000000000001</td></tr><tr><td>Church of Jesus Christ of Latter-day Saints</td><td>3.333709090909089</td></tr><tr><td>Christian nfd</td><td>3.287400000000001</td></tr><tr><td>Zoroastrianism</td><td>3.287400000000001</td></tr><tr><td>Australian Aboriginal Traditional Religion</td><td>3.287400000000001</td></tr><tr><td>Theism, nec</td><td>3.287400000000001</td></tr><tr><td>Religious belief, nfd and Inadequately described</td><td>3.2874000000000008</td></tr><tr><td>Oriental Orthodox</td><td>3.2874</td></tr><tr><td>Assyrian Apostolic</td><td>3.2874</td></tr><tr><td>New Apostolic</td><td>3.2797538461538456</td></tr><tr><td>Orthodox</td><td>3.150299539170506</td></tr><tr><td>Agnostic</td><td>3.1305586206896523</td></tr><tr><td>Not Declared</td><td>3.1142999999999965</td></tr><tr><td>Hare Rama Hare Krishna</td><td>3.0994285714285725</td></tr><tr><td>Polish National Catholic Church</td><td>3.0952</td></tr><tr><td>Unification</td><td>3.078</td></tr><tr><td>Unitarian</td><td>3.0721499999999984</td></tr><tr><td>Armenian Apostolic</td><td>3.0364749999999976</td></tr><tr><td>Serbian Orthodox</td><td>3.017919999999999</td></tr><tr><td>Reformat</td><td>2.9980000000000007</td></tr><tr><td>Other Catholic</td><td>2.9405230769230744</td></tr><tr><td>Atheist</td><td>2.906151181102355</td></tr><tr><td>Other Protestant</td><td>2.902514285714284</td></tr><tr><td>Reformed Churches</td><td>2.8814909090909073</td></tr><tr><td>Greek Oriental</td><td>2.7779999999999996</td></tr><tr><td>Christengmeinschaft</td><td>2.7779999999999996</td></tr><tr><td>Free Christian Community</td><td>2.7779999999999996</td></tr><tr><td>Christian Community</td><td>2.7779999999999996</td></tr><tr><td>Eastern Orthodox</td><td>2.745699999999997</td></tr><tr><td>Denomination not specified</td><td>2.6891</td></tr><tr><td>Islamic Congregation</td><td>2.63</td></tr><tr><td>Free Church in Finland</td><td>2.6299999999999994</td></tr><tr><td>Orientalists' Cults</td><td>2.6071375</td></tr><tr><td>Old Catholic Church</td><td>2.559949999999999</td></tr><tr><td>No Afiliation</td><td>2.558628571428572</td></tr><tr><td>Armeno-Gregorian</td><td>2.4346666666666668</td></tr><tr><td>Didn't answer</td><td>2.4062800000000006</td></tr><tr><td>Non-believers</td><td>2.40564</td></tr><tr><td>Evangelical Reformists</td><td>2.3680000000000003</td></tr><tr><td>Society for Krishna Consciousness</td><td>2.3680000000000003</td></tr><tr><td>Sunni Muslims</td><td>2.3680000000000003</td></tr><tr><td>Karaite</td><td>2.3680000000000003</td></tr><tr><td>Balts Believers</td><td>2.3680000000000003</td></tr><tr><td>Word of Faith</td><td>2.368</td></tr><tr><td>Neuapostolische Kirche</td><td>2.368</td></tr><tr><td>Non-denominational Christian Churches</td><td>2.368</td></tr><tr><td>Charismatic Evangelical Church</td><td>2.368</td></tr><tr><td>All Gospel Church</td><td>2.368</td></tr><tr><td>Evangelic Augustan Confession</td><td>2.234666666666667</td></tr><tr><td>Yiddish</td><td>2.204</td></tr><tr><td>Evangelical Lutherans</td><td>2.193</td></tr><tr><td>Old Believers</td><td>2.192000000000001</td></tr><tr><td>Greek Catholic</td><td>2.1637250000000003</td></tr><tr><td>Eastern religion</td><td>2.0334</td></tr><tr><td>Mosaic</td><td>2.0180000000000002</td></tr><tr><td>Christian of Old Rite</td><td>2.0180000000000002</td></tr><tr><td>Christian by Gospel</td><td>2.0180000000000002</td></tr><tr><td>Calvinist</td><td>1.9566000000000006</td></tr><tr><td>Charismatic Episcopal Church</td><td>1.9280000000000006</td></tr><tr><td>Taara or Earth Believer</td><td>1.9280000000000006</td></tr><tr><td>Christian Free Congregations</td><td>1.9280000000000006</td></tr><tr><td>Estonian Ancient Belief</td><td>1.9280000000000004</td></tr><tr><td>Ukrainian Greek-Catholic Church</td><td>1.9280000000000004</td></tr><tr><td>Church of Charismatic Fellowship</td><td>1.9280000000000004</td></tr><tr><td>Church of Christian Fellowship</td><td>1.9280000000000004</td></tr><tr><td>Russian Catholic Orthodox Church</td><td>1.9280000000000004</td></tr><tr><td>None or Refused</td><td>null</td></tr><tr><td>Protestant Reformed</td><td>null</td></tr><tr><td>Protestant Lutheran</td><td>null</td></tr><tr><td>Modekngei</td><td>null</td></tr></tbody></table></div>"
      ]
     },
     "metadata": {
      "application/vnd.databricks.v1+output": {
       "addedWidgets": {},
       "aggData": [],
       "aggError": "",
       "aggOverflow": false,
       "aggSchema": [],
       "aggSeriesLimitReached": false,
       "aggType": "",
       "arguments": {},
       "columnCustomDisplayInfos": {},
       "data": [
        [
         "Worship Centre",
         7.652199999999998
        ],
        [
         "Peace Chapel",
         7.652199999999998
        ],
        [
         "Voice of Christ",
         7.652199999999998
        ],
        [
         "Samoa Evangelism",
         7.652199999999998
        ],
        [
         "Community Church",
         7.652199999999998
        ],
        [
         "CCCJS",
         7.652199999999998
        ],
        [
         "Aoga Tusi Paia",
         7.652199999999998
        ],
        [
         "Shaman",
         7.3122
        ],
        [
         "Iglesia Evangelista Methodista en Las Filipinas",
         6.9403999999999995
        ],
        [
         "Philippine Benevolent Missionaries Association",
         6.9403999999999995
        ],
        [
         "Southern Baptist",
         6.9403999999999995
        ],
        [
         "International Baptist Missionary Fellowship",
         6.9403999999999995
        ],
        [
         "United Methodist Church",
         6.9403999999999995
        ],
        [
         "United Church of Christ",
         6.9403999999999995
        ],
        [
         "Association of Fundamental Baptist Church in the Philippines",
         6.9403999999999995
        ],
        [
         "Episcopal",
         6.9403999999999995
        ],
        [
         "Aglipay",
         6.9403999999999995
        ],
        [
         "Convention of the Philippine Baptist Church",
         6.9403999999999995
        ],
        [
         "Association of Baptist Churches in Luzon, Visayas and Mindanao",
         6.9403999999999995
        ],
        [
         "Missionary Baptist Churches of the Philippines",
         6.9403999999999995
        ],
        [
         "Iglesia ni Cristo",
         6.9403999999999995
        ],
        [
         "Evangelical Christian",
         6.8472
        ],
        [
         "Historics",
         6.809200000000001
        ],
        [
         "Traditional",
         6.788040000000004
        ],
        [
         "Constitutional Church of Tonga",
         6.7635999999999985
        ],
        [
         "Tokaikolo Christian Church",
         6.763599999999998
        ],
        [
         "Free Church of Tonga",
         6.763599999999998
        ],
        [
         "Church of Tonga",
         6.763599999999998
        ],
        [
         "Free Wesleyan Church",
         6.763599999999998
        ],
        [
         "Custom",
         6.7298
        ],
        [
         "Badimo",
         6.635
        ],
        [
         "Ethnic Churches",
         6.623
        ],
        [
         "Tribal",
         6.5383
        ],
        [
         "Other Methodist Churches",
         6.502399999999999
        ],
        [
         "Other Baptist Churches",
         6.502399999999999
        ],
        [
         "Other Evangelical Churches",
         6.502325000000002
        ],
        [
         "Te koaua",
         6.488400000000001
        ],
        [
         "Kempsville Presbyterian Church",
         6.488400000000001
        ],
        [
         "Saio/Zione",
         6.476
        ],
        [
         "Non-Apostolic",
         6.3058000000000005
        ],
        [
         "Animist",
         6.270958139534885
        ],
        [
         "Protestant Evangelical",
         6.1476
        ],
        [
         "Confucianism/Taoism and Other Traditional Chinese",
         6.136200000000001
        ],
        [
         "Other Presbyterian Churches",
         6.064400000000002
        ],
        [
         "Bandla Lama Nazaretha",
         6.064400000000002
        ],
        [
         "Ibandlalama Nazaretha",
         6.064400000000002
        ],
        [
         "St. John's Apostolic Church",
         6.064400000000002
        ],
        [
         "Other African Apostolic Churches",
         6.064400000000002
        ],
        [
         "Other Faiths",
         6.064400000000002
        ],
        [
         "Afrikaanse Protestante Kerk",
         6.064400000000002
        ],
        [
         "Other Congregational Churches",
         6.064400000000002
        ],
        [
         "Other Charismatic Churches",
         6.064400000000002
        ],
        [
         "Other Pentecostal Churches",
         6.064400000000002
        ],
        [
         "Other Adventist Churches",
         6.064400000000002
        ],
        [
         "International Fellowship of Christian Church",
         6.064400000000002
        ],
        [
         "NA: Institution",
         6.064400000000002
        ],
        [
         "Pinkster Protestante Kerk",
         6.064400000000002
        ],
        [
         "St. Engenas Zion Christian Church",
         6.064400000000002
        ],
        [
         "Other Assemblies",
         6.064400000000002
        ],
        [
         "Nederduits Hervormde Kerk",
         6.064400000000002
        ],
        [
         "Full Gospel Church of God",
         6.064400000000002
        ],
        [
         "Ethiopian Churches",
         6.0644
        ],
        [
         "Other Zionist Churches",
         6.0644
        ],
        [
         "Other African Independent Churches",
         6.0644
        ],
        [
         "Zion Christian Church",
         6.0644
        ],
        [
         "African Traditional Belief",
         6.0644
        ],
        [
         "Apostolic Faith Mission of SA",
         6.0644
        ],
        [
         "Bengali",
         6.060600000000001
        ],
        [
         "Kirati",
         6.059399999999999
        ],
        [
         "Bektashism",
         6.0158000000000005
        ],
        [
         "Believers without denomination",
         6.0158000000000005
        ],
        [
         "Arya Samajist",
         5.999485714285718
        ],
        [
         "Assembly of God",
         5.972170149253733
        ],
        [
         "Aryan",
         5.918000000000003
        ],
        [
         "Other Hindu",
         5.918000000000003
        ],
        [
         "Chinese",
         5.918000000000003
        ],
        [
         "Other Muslims",
         5.918000000000003
        ],
        [
         "Vaish",
         5.918000000000003
        ],
        [
         "Marathi & Marathi Hindu",
         5.918000000000003
        ],
        [
         "Mission Salut et Guerison",
         5.918000000000003
        ],
        [
         "Tamil and Tamil Hindu",
         5.918000000000003
        ],
        [
         "Rajput",
         5.918000000000003
        ],
        [
         "Puranic",
         5.918000000000003
        ],
        [
         "Sanatanist",
         5.918000000000003
        ],
        [
         "Telegu and Telegu Hindu",
         5.918000000000003
        ],
        [
         "Christian Tamil",
         5.918000000000003
        ],
        [
         "Ahir",
         5.918000000000003
        ],
        [
         "Kabir Panthis",
         5.918000000000003
        ],
        [
         "Témoin de Jehovah",
         5.918000000000003
        ],
        [
         "Vedic",
         5.918000000000003
        ],
        [
         "Ahmadhya",
         5.918000000000003
        ],
        [
         "Telegu Speaking",
         5.918
        ],
        [
         "Peniel Tabernacle",
         5.918
        ],
        [
         "La Voix de la Delivrance",
         5.918
        ],
        [
         "Other Chinese",
         5.918
        ],
        [
         "Rabidass",
         5.918
        ],
        [
         "Arya Samajist, Other",
         5.918
        ],
        [
         "Mohamedan",
         5.918
        ],
        [
         "Baboojee",
         5.918
        ],
        [
         "Eglise Chrétienne",
         5.918
        ],
        [
         "Candomble",
         5.892200000000002
        ],
        [
         "Roman Apostolic Catholic",
         5.892200000000002
        ],
        [
         "Messianica",
         5.892200000000002
        ],
        [
         "Umbanda e Candomblé",
         5.892200000000002
        ],
        [
         "Umbanda",
         5.892200000000002
        ],
        [
         "Orthodox Catholic",
         5.892200000000002
        ],
        [
         "Other Evangelical Pentecostal",
         5.892200000000002
        ],
        [
         "Christian Congregation of Brazil",
         5.892200000000002
        ],
        [
         "Brasilian Apostolic Catholic",
         5.892200000000002
        ],
        [
         "God is Love",
         5.892200000000002
        ],
        [
         "Universal of the Kingdom of God",
         5.892200000000002
        ],
        [
         "Other Traditional Evangelical",
         5.892200000000002
        ],
        [
         "Espiritia",
         5.892200000000002
        ],
        [
         "Revived",
         5.79626666666667
        ],
        [
         "Not Asked",
         5.598599999999999
        ],
        [
         "Confucian",
         5.562938461538458
        ],
        [
         "New Testament Church of God",
         5.552800000000001
        ],
        [
         "Church of God of Prophecy",
         5.552800000000001
        ],
        [
         "Church of God in Jamaica",
         5.552800000000001
        ],
        [
         "Other Church of God",
         5.552800000000001
        ],
        [
         "Full Gospel Church",
         5.5268833333333305
        ],
        [
         "Nazarene",
         5.480466666666664
        ],
        [
         "Christian",
         5.3639664233576765
        ],
        [
         "Hindu",
         5.087611799410039
        ],
        [
         "Orisha",
         5.0038
        ],
        [
         "Presbyterian/ Congregational",
         5.0038
        ],
        [
         "Pentecostal/ Evangelical/ Full Gospel",
         5.0038
        ],
        [
         "Moravian",
         4.967955555555555
        ],
        [
         "No Religion",
         4.964035200000002
        ],
        [
         "Islam ",
         4.960287240356082
        ],
        [
         "Buddhist",
         4.915932344213662
        ],
        [
         "Muslim",
         4.8655085399449005
        ],
        [
         "Other Religions",
         4.82398947368419
        ],
        [
         "Church of God",
         4.8074857142857175
        ],
        [
         "Total",
         4.794182741116756
        ],
        [
         "Church of England",
         4.773400000000002
        ],
        [
         "Catholic",
         4.755952043596733
        ],
        [
         "Bible Baptist",
         4.7185999999999995
        ],
        [
         "Mormon",
         4.7156125000000015
        ],
        [
         "Elim",
         4.712840000000001
        ],
        [
         "Anglican",
         4.710369590643266
        ],
        [
         "Other",
         4.693871258907381
        ],
        [
         "Other Apostolic Churches",
         4.6856
        ],
        [
         "Jains",
         4.623225454545458
        ],
        [
         "Church of Tuvalu",
         4.575
        ],
        [
         "Apostolic Church",
         4.575
        ],
        [
         "New Testament Church",
         4.575
        ],
        [
         "Brethren Assembly",
         4.575
        ],
        [
         "Baha'i",
         4.574424800000001
        ],
        [
         "No religion, Agnostic, Atheist",
         4.5228
        ],
        [
         "Rastafarian",
         4.511750000000001
        ],
        [
         "Congregational",
         4.508085714285715
        ],
        [
         "Seventh Day Adventist",
         4.486777659574465
        ],
        [
         "Presbyterian",
         4.4843621621621645
        ],
        [
         "Not Specified",
         4.47023870967743
        ],
        [
         "Christian Science",
         4.3952800000000005
        ],
        [
         "Latter Day Saints",
         4.394493333333332
        ],
        [
         "Protestant",
         4.376111450381677
        ],
        [
         "Jehovah Witness",
         4.350113043478263
        ],
        [
         "None",
         4.335470588235292
        ],
        [
         "Shar-fadinian",
         4.3348
        ],
        [
         "Yeshiva's witness",
         4.3348
        ],
        [
         "Molokai",
         4.3348
        ],
        [
         "Evangelical",
         4.333530120481931
        ],
        [
         "African Methodist Episcopal Church",
         4.318800000000001
        ],
        [
         "Spiritualist",
         4.314410526315789
        ],
        [
         "Refused to answer",
         4.267835
        ],
        [
         "Pentecostal",
         4.260581102362213
        ],
        [
         "Other Religions and Persuasions",
         4.2596
        ],
        [
         "Mennonite",
         4.248338461538463
        ],
        [
         "Unknown",
         4.237913953488366
        ],
        [
         "Jehovah's Witnesses",
         4.232100000000001
        ],
        [
         "Not Stated",
         4.212321904761899
        ],
        [
         "Oriental",
         4.188485714285714
        ],
        [
         "Other Christians",
         4.182430693069309
        ],
        [
         "Dutch Reformed",
         4.157900000000001
        ],
        [
         "Adventist",
         4.135981132075473
        ],
        [
         "Sikh",
         4.1113359223301
        ],
        [
         "Salvation Army",
         4.075845714285718
        ],
        [
         "Judaism",
         4.053174857142858
        ],
        [
         "Methodist",
         4.048839631336408
        ],
        [
         "United Church",
         4.041186666666667
        ],
        [
         "Brethren",
         3.9933736842105274
        ],
        [
         "Apostolic",
         3.9916555555555573
        ],
        [
         "Object",
         3.978000000000001
        ],
        [
         "Brethren Exclusive",
         3.978000000000001
        ],
        [
         "Hauhau",
         3.978000000000001
        ],
        [
         "Commonwealth Covenant Church",
         3.978000000000001
        ],
        [
         "Revival Centres",
         3.978000000000001
        ],
        [
         "United Pentecostal",
         3.9780000000000006
        ],
        [
         "Christian Revival Crusade",
         3.9780000000000006
        ],
        [
         "Cook Island Congregational",
         3.9780000000000006
        ],
        [
         "Plymouth Brethren",
         3.9780000000000006
        ],
        [
         "Korean Christian",
         3.9780000000000006
        ],
        [
         "Druid",
         3.9780000000000006
        ],
        [
         "Open Brethren",
         3.9780000000000006
        ],
        [
         "Chinese Christian",
         3.9780000000000006
        ],
        [
         "Liberal Catholic",
         3.9780000000000006
        ],
        [
         "Other Church of Christ",
         3.9780000000000006
        ],
        [
         "Tenrikyo",
         3.9780000000000006
        ],
        [
         "Yoga",
         3.9780000000000006
        ],
        [
         "Zen Buddhist",
         3.9780000000000006
        ],
        [
         "Independent Pentecostal",
         3.9780000000000006
        ],
        [
         "Independent Baptist",
         3.9780000000000006
        ],
        [
         "Apostolic Church of New Zealand",
         3.9780000000000006
        ],
        [
         "Religious Society of Friends",
         3.9780000000000006
        ],
        [
         "Fundamentalist",
         3.9780000000000006
        ],
        [
         "Tongan Methodist",
         3.9780000000000006
        ],
        [
         "Christian Outreach",
         3.9780000000000006
        ],
        [
         "Metropolitan",
         3.9780000000000006
        ],
        [
         "Wiccan",
         3.9780000000000006
        ],
        [
         "Samoan Congregational",
         3.9780000000000006
        ],
        [
         "Reformed Baptist",
         3.9780000000000006
        ],
        [
         "Theism",
         3.9780000000000006
        ],
        [
         "Associated Churches of Christ",
         3.9780000000000006
        ],
        [
         "Mäori Christian",
         3.9780000000000006
        ],
        [
         "Mahikari",
         3.9780000000000006
        ],
        [
         "Assyrian Orthodox",
         3.9780000000000006
        ],
        [
         "Sufi",
         3.9780000000000006
        ],
        [
         "Unification Church",
         3.9780000000000006
        ],
        [
         "Independent Evangelical Churches",
         3.9780000000000006
        ],
        [
         "New life centres",
         3.9780000000000006
        ],
        [
         "Mäori Religion",
         3.9780000000000006
        ],
        [
         "Born Again Christian",
         3.9780000000000006
        ],
        [
         "Ecumenical",
         3.9780000000000006
        ],
        [
         "Ratana",
         3.9779999999999998
        ],
        [
         "Ringatu",
         3.9779999999999998
        ],
        [
         "Pantheism",
         3.9674999999999994
        ],
        [
         "Lapsed Roman Catholic",
         3.963999999999999
        ],
        [
         "Church of Ireland",
         3.963999999999999
        ],
        [
         "Islam/Judaism",
         3.9226000000000005
        ],
        [
         "Buddhism/ Sikh",
         3.9226000000000005
        ],
        [
         "Other Reformed Church",
         3.885542857142857
        ],
        [
         "Roman Catholic",
         3.8262489510489597
        ],
        [
         "Quakers",
         3.7992749999999997
        ],
        [
         "Armenian Orthodox",
         3.7932000000000015
        ],
        [
         "Zoroastrian",
         3.7501999999999973
        ],
        [
         "Christadelphian",
         3.7046399999999973
        ],
        [
         "Taoist",
         3.6911749999999977
        ],
        [
         "Russian Orthodox",
         3.6742666666666643
        ],
        [
         "Vineyard Christian Fellowship",
         3.6742666666666643
        ],
        [
         "Coptic Orthodox",
         3.6742666666666643
        ],
        [
         "Worldwide Church of God",
         3.6742666666666643
        ],
        [
         "Christian and Mission Alliance",
         3.6742666666666643
        ],
        [
         "Other Non-Christians",
         3.6669249999999995
        ],
        [
         "Baptist",
         3.6460526315789576
        ],
        [
         "Christian Orthodox",
         3.643050000000001
        ],
        [
         "Oriental Christian",
         3.5833714285714287
        ],
        [
         "Greek Orthodox",
         3.5783428571428564
        ],
        [
         "Nature and earth based religions",
         3.5636400000000013
        ],
        [
         "Japanese Religions",
         3.5636400000000013
        ],
        [
         "Chinese Religions",
         3.5636400000000013
        ],
        [
         "New Age",
         3.5531749999999995
        ],
        [
         "Hutterite",
         3.5224000000000006
        ],
        [
         "Canadian Reformed Church",
         3.5224000000000006
        ],
        [
         "Standard Church",
         3.5224000000000006
        ],
        [
         "Canadian and American Reformed Church",
         3.5224000000000006
        ],
        [
         "Other Eastern religions",
         3.5224000000000006
        ],
        [
         "Church of God nos",
         3.5224000000000006
        ],
        [
         "Antiochian Orthodox Christian",
         3.5223999999999993
        ],
        [
         "Church of Nazarene",
         3.5223999999999993
        ],
        [
         "Protestant nfd",
         3.5223999999999993
        ],
        [
         "Wesleyan",
         3.5223999999999993
        ],
        [
         "Brethren in Christ",
         3.5223999999999993
        ],
        [
         "Associated Gospel",
         3.5223999999999993
        ],
        [
         "Reorganized Church of Latter-day Saints",
         3.5223999999999993
        ],
        [
         "Apostolic Christian Church",
         3.5223999999999993
        ],
        [
         "Unity-New Thought-Pantheist",
         3.5223999999999993
        ],
        [
         "Aboriginal spirituality",
         3.5223999999999993
        ],
        [
         "Ukrainian Orthodox",
         3.5223999999999993
        ],
        [
         "Free Methodists",
         3.5223999999999993
        ],
        [
         "Christian or Plymouth Brethren",
         3.5223999999999993
        ],
        [
         "Interdenominational",
         3.5223999999999993
        ],
        [
         "Romanian Orthodox",
         3.5223999999999993
        ],
        [
         "Christian Reformed Church",
         3.5223999999999993
        ],
        [
         "Gnostic",
         3.5223999999999993
        ],
        [
         "Scientology",
         3.5223999999999993
        ],
        [
         "Humanist",
         3.5223999999999993
        ],
        [
         "Christian Congregational",
         3.5223999999999993
        ],
        [
         "Evangelical Free Church",
         3.5223999999999993
        ],
        [
         "Swedenborgian (New Church)",
         3.5223999999999993
        ],
        [
         "Charismatic Renewal",
         3.5223999999999993
        ],
        [
         "Evangelical Missionary Church",
         3.5223999999999993
        ],
        [
         "Christians, n.i.e.",
         3.5223999999999993
        ],
        [
         "Doukhobors",
         3.5223999999999993
        ],
        [
         "Mission de l'Esprit Saint",
         3.5223999999999993
        ],
        [
         "Ukrainian Catholic",
         3.5223999999999993
        ],
        [
         "Lutheran",
         3.516003571428572
        ],
        [
         "Church of Christ",
         3.515669879518075
        ],
        [
         "Maronite church",
         3.5004000000000004
        ],
        [
         "Armenian church",
         3.5004000000000004
        ],
        [
         "Other Lutheran Churches",
         3.4885999999999995
        ],
        [
         "Pagan",
         3.460142857142859
        ],
        [
         "Presbyterian and Reformed",
         3.4600499999999994
        ],
        [
         "Non-denominational",
         3.449440000000002
        ],
        [
         "Shinto",
         3.445952941176469
        ],
        [
         "Other Orthodox Churches",
         3.428981818181817
        ],
        [
         "Druze",
         3.4248499999999997
        ],
        [
         "Jewish",
         3.424156521739127
        ],
        [
         "Satanist",
         3.4227749999999997
        ],
        [
         "Church of Scientology",
         3.3925454545454525
        ],
        [
         "Ethiopian Orthodox",
         3.340000000000001
        ],
        [
         "Church of Jesus Christ of Latter-day Saints",
         3.333709090909089
        ],
        [
         "Christian nfd",
         3.287400000000001
        ],
        [
         "Zoroastrianism",
         3.287400000000001
        ],
        [
         "Australian Aboriginal Traditional Religion",
         3.287400000000001
        ],
        [
         "Theism, nec",
         3.287400000000001
        ],
        [
         "Religious belief, nfd and Inadequately described",
         3.2874000000000008
        ],
        [
         "Oriental Orthodox",
         3.2874
        ],
        [
         "Assyrian Apostolic",
         3.2874
        ],
        [
         "New Apostolic",
         3.2797538461538456
        ],
        [
         "Orthodox",
         3.150299539170506
        ],
        [
         "Agnostic",
         3.1305586206896523
        ],
        [
         "Not Declared",
         3.1142999999999965
        ],
        [
         "Hare Rama Hare Krishna",
         3.0994285714285725
        ],
        [
         "Polish National Catholic Church",
         3.0952
        ],
        [
         "Unification",
         3.078
        ],
        [
         "Unitarian",
         3.0721499999999984
        ],
        [
         "Armenian Apostolic",
         3.0364749999999976
        ],
        [
         "Serbian Orthodox",
         3.017919999999999
        ],
        [
         "Reformat",
         2.9980000000000007
        ],
        [
         "Other Catholic",
         2.9405230769230744
        ],
        [
         "Atheist",
         2.906151181102355
        ],
        [
         "Other Protestant",
         2.902514285714284
        ],
        [
         "Reformed Churches",
         2.8814909090909073
        ],
        [
         "Greek Oriental",
         2.7779999999999996
        ],
        [
         "Christengmeinschaft",
         2.7779999999999996
        ],
        [
         "Free Christian Community",
         2.7779999999999996
        ],
        [
         "Christian Community",
         2.7779999999999996
        ],
        [
         "Eastern Orthodox",
         2.745699999999997
        ],
        [
         "Denomination not specified",
         2.6891
        ],
        [
         "Islamic Congregation",
         2.63
        ],
        [
         "Free Church in Finland",
         2.6299999999999994
        ],
        [
         "Orientalists' Cults",
         2.6071375
        ],
        [
         "Old Catholic Church",
         2.559949999999999
        ],
        [
         "No Afiliation",
         2.558628571428572
        ],
        [
         "Armeno-Gregorian",
         2.4346666666666668
        ],
        [
         "Didn't answer",
         2.4062800000000006
        ],
        [
         "Non-believers",
         2.40564
        ],
        [
         "Evangelical Reformists",
         2.3680000000000003
        ],
        [
         "Society for Krishna Consciousness",
         2.3680000000000003
        ],
        [
         "Sunni Muslims",
         2.3680000000000003
        ],
        [
         "Karaite",
         2.3680000000000003
        ],
        [
         "Balts Believers",
         2.3680000000000003
        ],
        [
         "Word of Faith",
         2.368
        ],
        [
         "Neuapostolische Kirche",
         2.368
        ],
        [
         "Non-denominational Christian Churches",
         2.368
        ],
        [
         "Charismatic Evangelical Church",
         2.368
        ],
        [
         "All Gospel Church",
         2.368
        ],
        [
         "Evangelic Augustan Confession",
         2.234666666666667
        ],
        [
         "Yiddish",
         2.204
        ],
        [
         "Evangelical Lutherans",
         2.193
        ],
        [
         "Old Believers",
         2.192000000000001
        ],
        [
         "Greek Catholic",
         2.1637250000000003
        ],
        [
         "Eastern religion",
         2.0334
        ],
        [
         "Mosaic",
         2.0180000000000002
        ],
        [
         "Christian of Old Rite",
         2.0180000000000002
        ],
        [
         "Christian by Gospel",
         2.0180000000000002
        ],
        [
         "Calvinist",
         1.9566000000000006
        ],
        [
         "Charismatic Episcopal Church",
         1.9280000000000006
        ],
        [
         "Taara or Earth Believer",
         1.9280000000000006
        ],
        [
         "Christian Free Congregations",
         1.9280000000000006
        ],
        [
         "Estonian Ancient Belief",
         1.9280000000000004
        ],
        [
         "Ukrainian Greek-Catholic Church",
         1.9280000000000004
        ],
        [
         "Church of Charismatic Fellowship",
         1.9280000000000004
        ],
        [
         "Church of Christian Fellowship",
         1.9280000000000004
        ],
        [
         "Russian Catholic Orthodox Church",
         1.9280000000000004
        ],
        [
         "None or Refused",
         null
        ],
        [
         "Protestant Reformed",
         null
        ],
        [
         "Protestant Lutheran",
         null
        ],
        [
         "Modekngei",
         null
        ]
       ],
       "datasetInfos": [],
       "dbfsResultPath": null,
       "isJsonSchema": true,
       "metadata": {},
       "overflow": false,
       "plotOptions": {
        "customPlotOptions": {},
        "displayType": "table",
        "pivotAggregation": null,
        "pivotColumns": null,
        "xColumns": null,
        "yColumns": null
       },
       "removedWidgets": [],
       "schema": [
        {
         "metadata": "{}",
         "name": "Religion",
         "type": "\"string\""
        },
        {
         "metadata": "{}",
         "name": "indice_religiao",
         "type": "\"double\""
        }
       ],
       "type": "table"
      }
     },
     "output_type": "display_data"
    }
   ],
   "source": [
    "indice_religioes_5anos = (religions\n",
    "                                     .join(birth_rate,\n",
    "                                           religions['Country or Area'] == birth_rate['Country Name'])\n",
    "                                     .withColumn(\"indice_religiao\",\n",
    "                                    ((col(\"1961\") + col(\"1962\") + col(\"1963\") + col(\"1964\") + col(\"1965\"))/5))\n",
    "                                     .select(\"Religion\",\"indice_religiao\"))\n",
    "\n",
    "indice_religioes_5anos_grouped = (indice_religioes_5anos.groupBy(\"Religion\")\n",
    "                .agg(avg(\"indice_religiao\").alias(\"indice_religiao\"))\n",
    "                .sort(col(\"indice_religiao\").desc())\n",
    "                .select(\"Religion\", \"indice_religiao\"))\n",
    "\n",
    "indice_religioes_5anos_grouped.display()"
   ]
  },
  {
   "cell_type": "code",
   "execution_count": 0,
   "metadata": {
    "application/vnd.databricks.v1+cell": {
     "cellMetadata": {
      "byteLimit": 2048000,
      "rowLimit": 10000
     },
     "inputWidgets": {},
     "nuid": "8e1bf516-f293-47f6-ac60-5c6e6a0bcee3",
     "showTitle": true,
     "title": "Paises com menores indices de fertilidade no acumulado dos ultimos 62 anos"
    }
   },
   "outputs": [
    {
     "output_type": "display_data",
     "data": {
      "text/html": [
       "<style scoped>\n",
       "  .table-result-container {\n",
       "    max-height: 300px;\n",
       "    overflow: auto;\n",
       "  }\n",
       "  table, th, td {\n",
       "    border: 1px solid black;\n",
       "    border-collapse: collapse;\n",
       "  }\n",
       "  th, td {\n",
       "    padding: 5px;\n",
       "  }\n",
       "  th {\n",
       "    text-align: left;\n",
       "  }\n",
       "</style><div class='table-result-container'><table class='table-result'><thead style='background-color: white'><tr><th>Country or Area</th><th>menor_taxa_por_pais_range_62_anos</th></tr></thead><tbody><tr><td>Palau</td><td>null</td></tr><tr><td>Cayman Islands</td><td>null</td></tr><tr><td>Liechtenstein</td><td>null</td></tr><tr><td>Seychelles</td><td>null</td></tr><tr><td>Germany</td><td>1.5572580645161282</td></tr><tr><td>Hungary</td><td>1.6551612903225694</td></tr><tr><td>Switzerland</td><td>1.658387096774197</td></tr><tr><td>Serbia</td><td>1.6602419354838773</td></tr><tr><td>Austria</td><td>1.6811290322580694</td></tr><tr><td>Croatia</td><td>1.6851612903225826</td></tr><tr><td>Slovenia</td><td>1.7027096774193549</td></tr><tr><td>Bulgaria</td><td>1.730645161290323</td></tr><tr><td>Estonia</td><td>1.7643548387096668</td></tr><tr><td>Finland</td><td>1.7766129032258011</td></tr><tr><td>Lithuania</td><td>1.8150000000000248</td></tr><tr><td>Poland</td><td>1.8432258064516132</td></tr><tr><td>Canada</td><td>1.8521612903226221</td></tr><tr><td>Bermuda</td><td>1.8638870967741927</td></tr><tr><td>Romania</td><td>1.925967741935476</td></tr><tr><td>Portugal</td><td>1.9282258064516173</td></tr><tr><td>Singapore</td><td>2.0219354838709656</td></tr><tr><td>Australia</td><td>2.0705806451612965</td></tr><tr><td>Cyprus</td><td>2.1191935483870954</td></tr><tr><td>Montenegro</td><td>2.138032258064524</td></tr><tr><td>Barbados</td><td>2.1504354838709667</td></tr><tr><td>Georgia</td><td>2.161645161290323</td></tr><tr><td>New Zealand</td><td>2.2896774193549034</td></tr><tr><td>Sint Maarten (Dutch part)</td><td>2.313193548387094</td></tr><tr><td>Aruba</td><td>2.3431129032258036</td></tr><tr><td>Gibraltar</td><td>2.3693870967741915</td></tr><tr><td>Armenia</td><td>2.390548387096772</td></tr><tr><td>Antigua and Barbuda</td><td>2.410741935483873</td></tr><tr><td>Ireland</td><td>2.5416129032257806</td></tr><tr><td>Chile</td><td>2.581387096774193</td></tr><tr><td>Mauritius</td><td>2.613612903225824</td></tr><tr><td>Trinidad and Tobago</td><td>2.613709677419354</td></tr><tr><td>Kazakhstan</td><td>2.8872580645161294</td></tr><tr><td>Thailand</td><td>2.892306451612907</td></tr><tr><td>Sri Lanka</td><td>2.9883064516129068</td></tr><tr><td>Dominica</td><td>2.9890967741935444</td></tr><tr><td>Albania</td><td>3.1149838709677415</td></tr><tr><td>Israel</td><td>3.1463387096774214</td></tr><tr><td>Brazil</td><td>3.1920483870967544</td></tr><tr><td>Jamaica</td><td>3.1974516129032455</td></tr><tr><td>Brunei Darussalam</td><td>3.480919354838707</td></tr><tr><td>Malaysia</td><td>3.4966774193548495</td></tr><tr><td>Indonesia</td><td>3.549483870967732</td></tr><tr><td>Fiji</td><td>3.585790322580644</td></tr><tr><td>Suriname</td><td>3.6872419354838777</td></tr><tr><td>Tuvalu</td><td>3.716370967741937</td></tr><tr><td>South Africa</td><td>3.8014193548386954</td></tr><tr><td>Mexico</td><td>3.908403225806439</td></tr><tr><td>India</td><td>3.9433064516128993</td></tr><tr><td>Bahrain</td><td>3.943370967741936</td></tr><tr><td>Peru</td><td>4.06993548387097</td></tr><tr><td>Qatar</td><td>4.127596774193548</td></tr><tr><td>Paraguay</td><td>4.2395483870967645</td></tr><tr><td>Cambodia</td><td>4.382580645161284</td></tr><tr><td>Belize</td><td>4.400612903225807</td></tr><tr><td>Nepal</td><td>4.403741935483871</td></tr><tr><td>Bangladesh</td><td>4.452951612903228</td></tr><tr><td>Philippines</td><td>4.4581935483871</td></tr><tr><td>Mongolia</td><td>4.480080645161284</td></tr><tr><td>Nicaragua</td><td>4.495129032258072</td></tr><tr><td>Kiribati</td><td>4.557403225806446</td></tr><tr><td>Botswana</td><td>4.602758064516137</td></tr><tr><td>Tonga</td><td>4.759483870967745</td></tr><tr><td>Vanuatu</td><td>5.053112903225808</td></tr><tr><td>Timor-Leste</td><td>5.251419354838713</td></tr><tr><td>Samoa</td><td>5.394499999999995</td></tr><tr><td>Ghana</td><td>5.425903225806452</td></tr><tr><td>Sao Tome and Principe</td><td>5.4885967741935495</td></tr><tr><td>Guinea-Bissau</td><td>5.704967741935487</td></tr><tr><td>Marshall Islands</td><td>5.722870967741936</td></tr><tr><td>Liberia</td><td>5.88735483870968</td></tr><tr><td>Mozambique</td><td>5.920370967741951</td></tr><tr><td>Kenya</td><td>5.960177419354836</td></tr><tr><td>Zambia</td><td>6.212612903225814</td></tr><tr><td>Malawi</td><td>6.263016129032268</td></tr><tr><td>Ethiopia</td><td>6.324145161290322</td></tr><tr><td>Burkina Faso</td><td>6.359532258064517</td></tr><tr><td>Rwanda</td><td>6.4640161290322595</td></tr><tr><td>Uganda</td><td>6.531612903225806</td></tr><tr><td>Burundi</td><td>6.711516129032252</td></tr><tr><td>Niger</td><td>7.449145161290324</td></tr></tbody></table></div>"
      ]
     },
     "metadata": {
      "application/vnd.databricks.v1+output": {
       "addedWidgets": {},
       "aggData": [],
       "aggError": "",
       "aggOverflow": false,
       "aggSchema": [],
       "aggSeriesLimitReached": false,
       "aggType": "",
       "arguments": {},
       "columnCustomDisplayInfos": {},
       "data": [
        [
         "Palau",
         null
        ],
        [
         "Cayman Islands",
         null
        ],
        [
         "Liechtenstein",
         null
        ],
        [
         "Seychelles",
         null
        ],
        [
         "Germany",
         1.5572580645161282
        ],
        [
         "Hungary",
         1.6551612903225694
        ],
        [
         "Switzerland",
         1.658387096774197
        ],
        [
         "Serbia",
         1.6602419354838773
        ],
        [
         "Austria",
         1.6811290322580694
        ],
        [
         "Croatia",
         1.6851612903225826
        ],
        [
         "Slovenia",
         1.7027096774193549
        ],
        [
         "Bulgaria",
         1.730645161290323
        ],
        [
         "Estonia",
         1.7643548387096668
        ],
        [
         "Finland",
         1.7766129032258011
        ],
        [
         "Lithuania",
         1.8150000000000248
        ],
        [
         "Poland",
         1.8432258064516132
        ],
        [
         "Canada",
         1.8521612903226221
        ],
        [
         "Bermuda",
         1.8638870967741927
        ],
        [
         "Romania",
         1.925967741935476
        ],
        [
         "Portugal",
         1.9282258064516173
        ],
        [
         "Singapore",
         2.0219354838709656
        ],
        [
         "Australia",
         2.0705806451612965
        ],
        [
         "Cyprus",
         2.1191935483870954
        ],
        [
         "Montenegro",
         2.138032258064524
        ],
        [
         "Barbados",
         2.1504354838709667
        ],
        [
         "Georgia",
         2.161645161290323
        ],
        [
         "New Zealand",
         2.2896774193549034
        ],
        [
         "Sint Maarten (Dutch part)",
         2.313193548387094
        ],
        [
         "Aruba",
         2.3431129032258036
        ],
        [
         "Gibraltar",
         2.3693870967741915
        ],
        [
         "Armenia",
         2.390548387096772
        ],
        [
         "Antigua and Barbuda",
         2.410741935483873
        ],
        [
         "Ireland",
         2.5416129032257806
        ],
        [
         "Chile",
         2.581387096774193
        ],
        [
         "Mauritius",
         2.613612903225824
        ],
        [
         "Trinidad and Tobago",
         2.613709677419354
        ],
        [
         "Kazakhstan",
         2.8872580645161294
        ],
        [
         "Thailand",
         2.892306451612907
        ],
        [
         "Sri Lanka",
         2.9883064516129068
        ],
        [
         "Dominica",
         2.9890967741935444
        ],
        [
         "Albania",
         3.1149838709677415
        ],
        [
         "Israel",
         3.1463387096774214
        ],
        [
         "Brazil",
         3.1920483870967544
        ],
        [
         "Jamaica",
         3.1974516129032455
        ],
        [
         "Brunei Darussalam",
         3.480919354838707
        ],
        [
         "Malaysia",
         3.4966774193548495
        ],
        [
         "Indonesia",
         3.549483870967732
        ],
        [
         "Fiji",
         3.585790322580644
        ],
        [
         "Suriname",
         3.6872419354838777
        ],
        [
         "Tuvalu",
         3.716370967741937
        ],
        [
         "South Africa",
         3.8014193548386954
        ],
        [
         "Mexico",
         3.908403225806439
        ],
        [
         "India",
         3.9433064516128993
        ],
        [
         "Bahrain",
         3.943370967741936
        ],
        [
         "Peru",
         4.06993548387097
        ],
        [
         "Qatar",
         4.127596774193548
        ],
        [
         "Paraguay",
         4.2395483870967645
        ],
        [
         "Cambodia",
         4.382580645161284
        ],
        [
         "Belize",
         4.400612903225807
        ],
        [
         "Nepal",
         4.403741935483871
        ],
        [
         "Bangladesh",
         4.452951612903228
        ],
        [
         "Philippines",
         4.4581935483871
        ],
        [
         "Mongolia",
         4.480080645161284
        ],
        [
         "Nicaragua",
         4.495129032258072
        ],
        [
         "Kiribati",
         4.557403225806446
        ],
        [
         "Botswana",
         4.602758064516137
        ],
        [
         "Tonga",
         4.759483870967745
        ],
        [
         "Vanuatu",
         5.053112903225808
        ],
        [
         "Timor-Leste",
         5.251419354838713
        ],
        [
         "Samoa",
         5.394499999999995
        ],
        [
         "Ghana",
         5.425903225806452
        ],
        [
         "Sao Tome and Principe",
         5.4885967741935495
        ],
        [
         "Guinea-Bissau",
         5.704967741935487
        ],
        [
         "Marshall Islands",
         5.722870967741936
        ],
        [
         "Liberia",
         5.88735483870968
        ],
        [
         "Mozambique",
         5.920370967741951
        ],
        [
         "Kenya",
         5.960177419354836
        ],
        [
         "Zambia",
         6.212612903225814
        ],
        [
         "Malawi",
         6.263016129032268
        ],
        [
         "Ethiopia",
         6.324145161290322
        ],
        [
         "Burkina Faso",
         6.359532258064517
        ],
        [
         "Rwanda",
         6.4640161290322595
        ],
        [
         "Uganda",
         6.531612903225806
        ],
        [
         "Burundi",
         6.711516129032252
        ],
        [
         "Niger",
         7.449145161290324
        ]
       ],
       "datasetInfos": [],
       "dbfsResultPath": null,
       "isJsonSchema": true,
       "metadata": {},
       "overflow": false,
       "plotOptions": {
        "customPlotOptions": {},
        "displayType": "table",
        "pivotAggregation": null,
        "pivotColumns": null,
        "xColumns": null,
        "yColumns": null
       },
       "removedWidgets": [],
       "schema": [
        {
         "metadata": "{}",
         "name": "Country or Area",
         "type": "\"string\""
        },
        {
         "metadata": "{}",
         "name": "menor_taxa_por_pais_range_62_anos",
         "type": "\"double\""
        }
       ],
       "type": "table"
      }
     },
     "output_type": "display_data"
    }
   ],
   "source": [
    "menor_taxa_62_anos = (religions\n",
    "                                     .join(birth_rate.alias(\"b\"),\n",
    "                                           religions['Country or Area'] == birth_rate['Country Name'])\n",
    "                                     .withColumn(\"menor_taxa_por_pais_range_62_anos\",\n",
    "                                    ((col(\"1961\") + col(\"1962\") + col(\"1963\") + col(\"1964\") + col(\"1965\") + col(\"1966\") + col(\"1967\")\n",
    "                                    + col(\"1968\") + col(\"1969\") + col(\"1970\") + col(\"1971\") + col(\"1972\") + col(\"1973\") + col(\"1974\")\n",
    "                                    + col(\"1975\") + col(\"1976\") + col(\"1977\") + col(\"1978\") + col(\"1979\") + col(\"1980\") + col(\"1981\")\n",
    "                                    + col(\"1982\") + col(\"1983\") + col(\"1984\") + col(\"1985\") + col(\"1986\") + col(\"1987\") + col(\"1988\")\n",
    "                                    + col(\"1989\") + col(\"1990\") + col(\"1991\") + col(\"1992\") + col(\"1993\") + col(\"1994\") + col(\"1995\")\n",
    "                                    + col(\"1996\") + col(\"1997\") + col(\"1998\") + col(\"1999\") + col(\"2000\") + col(\"2001\") + col(\"2002\")\n",
    "                                    + col(\"2003\") + col(\"2004\") + col(\"2005\") + col(\"2006\") + col(\"2007\") + col(\"2008\") + col(\"2009\")\n",
    "                                    + col(\"2010\") + col(\"2011\") + col(\"2012\") + col(\"2013\") + col(\"2014\") + col(\"2015\") + col(\"2016\")\n",
    "                                    + col(\"2017\") + col(\"2018\") + col(\"2019\") + col(\"2020\") + col(\"2021\"))/62))\n",
    "                                     .select(\"Country or Area\",\"menor_taxa_por_pais_range_62_anos\"))\n",
    "\n",
    "menor_taxa_62_anos_grouped_data = (menor_taxa_62_anos.groupBy(\"Country or Area\")\n",
    "                .agg(avg(\"menor_taxa_por_pais_range_62_anos\").alias(\"menor_taxa_por_pais_range_62_anos\"))\n",
    "                .sort(col(\"menor_taxa_por_pais_range_62_anos\").asc())\n",
    "                .select(\"Country or Area\", \"menor_taxa_por_pais_range_62_anos\"))\n",
    "\n",
    "menor_taxa_62_anos_grouped_data.display()"
   ]
  },
  {
   "cell_type": "code",
   "execution_count": 0,
   "metadata": {
    "application/vnd.databricks.v1+cell": {
     "cellMetadata": {
      "byteLimit": 2048000,
      "rowLimit": 10000
     },
     "inputWidgets": {},
     "nuid": "fe964a89-047d-402b-ba83-9998f8d6675b",
     "showTitle": true,
     "title": "Pais que registro o menor índice de fertilidade 20 anos após a Segunda Guerra mundial"
    }
   },
   "outputs": [
    {
     "output_type": "display_data",
     "data": {
      "text/html": [
       "<style scoped>\n",
       "  .table-result-container {\n",
       "    max-height: 300px;\n",
       "    overflow: auto;\n",
       "  }\n",
       "  table, th, td {\n",
       "    border: 1px solid black;\n",
       "    border-collapse: collapse;\n",
       "  }\n",
       "  th, td {\n",
       "    padding: 5px;\n",
       "  }\n",
       "  th {\n",
       "    text-align: left;\n",
       "  }\n",
       "</style><div class='table-result-container'><table class='table-result'><thead style='background-color: white'><tr><th>Country or Area</th><th>menor_taxa_por_pais_range_20_anos</th></tr></thead><tbody><tr><td>Palau</td><td>null</td></tr><tr><td>Cayman Islands</td><td>null</td></tr><tr><td>Liechtenstein</td><td>null</td></tr><tr><td>Seychelles</td><td>null</td></tr><tr><td>Serbia</td><td>1.9299333333333368</td></tr><tr><td>Hungary</td><td>1.9719999999999909</td></tr><tr><td>Estonia</td><td>2.0153333333333525</td></tr><tr><td>Croatia</td><td>2.069933333333327</td></tr><tr><td>Finland</td><td>2.1213333333333284</td></tr><tr><td>Germany</td><td>2.1466666666666665</td></tr><tr><td>Bulgaria</td><td>2.172000000000008</td></tr><tr><td>Switzerland</td><td>2.238</td></tr><tr><td>Slovenia</td><td>2.249933333333332</td></tr><tr><td>Lithuania</td><td>2.306000000000021</td></tr><tr><td>Poland</td><td>2.395333333333328</td></tr><tr><td>Austria</td><td>2.432666666666672</td></tr><tr><td>Romania</td><td>2.554666666666663</td></tr><tr><td>Canada</td><td>2.635933333333381</td></tr><tr><td>Bermuda</td><td>2.662799999999985</td></tr><tr><td>Georgia</td><td>2.731866666666664</td></tr><tr><td>Australia</td><td>2.9026666666667085</td></tr><tr><td>Montenegro</td><td>2.908399999999995</td></tr><tr><td>Portugal</td><td>3.038000000000008</td></tr><tr><td>Gibraltar</td><td>3.0992666666666655</td></tr><tr><td>Cyprus</td><td>3.1036666666666677</td></tr><tr><td>New Zealand</td><td>3.3553333333333066</td></tr><tr><td>Aruba</td><td>3.3785333333333365</td></tr><tr><td>Barbados</td><td>3.4288666666666647</td></tr><tr><td>Sint Maarten (Dutch part)</td><td>3.4472000000000014</td></tr><tr><td>Armenia</td><td>3.702400000000007</td></tr><tr><td>Israel</td><td>3.7697333333333343</td></tr><tr><td>Singapore</td><td>3.7913333333333354</td></tr><tr><td>Ireland</td><td>3.83266666666668</td></tr><tr><td>Kazakhstan</td><td>3.8440000000000007</td></tr><tr><td>Antigua and Barbuda</td><td>3.872199999999998</td></tr><tr><td>Chile</td><td>3.9859999999999944</td></tr><tr><td>Trinidad and Tobago</td><td>4.118933333333332</td></tr><tr><td>Tuvalu</td><td>4.119200000000003</td></tr><tr><td>Sri Lanka</td><td>4.619066666666662</td></tr><tr><td>Mauritius</td><td>4.640133333333325</td></tr><tr><td>Dominica</td><td>4.859199999999995</td></tr><tr><td>Fiji</td><td>5.073866666666666</td></tr><tr><td>Brazil</td><td>5.251800000000002</td></tr><tr><td>Albania</td><td>5.366533333333334</td></tr><tr><td>Malaysia</td><td>5.386266666666652</td></tr><tr><td>Indonesia</td><td>5.4442000000000155</td></tr><tr><td>Jamaica</td><td>5.44800000000002</td></tr><tr><td>Cambodia</td><td>5.625266666666672</td></tr><tr><td>Thailand</td><td>5.666266666666647</td></tr><tr><td>India</td><td>5.70146666666666</td></tr><tr><td>South Africa</td><td>5.7451333333333405</td></tr><tr><td>Timor-Leste</td><td>5.775599999999998</td></tr><tr><td>Suriname</td><td>5.842133333333326</td></tr><tr><td>Kiribati</td><td>5.876333333333326</td></tr><tr><td>Nepal</td><td>5.922533333333345</td></tr><tr><td>Brunei Darussalam</td><td>5.935666666666664</td></tr><tr><td>Paraguay</td><td>5.937933333333336</td></tr><tr><td>Guinea-Bissau</td><td>6.02066666666667</td></tr><tr><td>Tonga</td><td>6.215333333333321</td></tr><tr><td>Belize</td><td>6.354066666666687</td></tr><tr><td>Philippines</td><td>6.397733333333339</td></tr><tr><td>Sao Tome and Principe</td><td>6.4145333333333365</td></tr><tr><td>Peru</td><td>6.438600000000003</td></tr><tr><td>Vanuatu</td><td>6.50073333333333</td></tr><tr><td>Qatar</td><td>6.5177999999999985</td></tr><tr><td>Mexico</td><td>6.548533333333349</td></tr><tr><td>Bahrain</td><td>6.571200000000002</td></tr><tr><td>Burkina Faso</td><td>6.59346666666666</td></tr><tr><td>Liberia</td><td>6.606133333333333</td></tr><tr><td>Mozambique</td><td>6.619000000000009</td></tr><tr><td>Botswana</td><td>6.6278666666666695</td></tr><tr><td>Bangladesh</td><td>6.835800000000005</td></tr><tr><td>Nicaragua</td><td>6.88006666666667</td></tr><tr><td>Ghana</td><td>6.903733333333324</td></tr><tr><td>Ethiopia</td><td>6.9571999999999985</td></tr><tr><td>Uganda</td><td>7.134666666666666</td></tr><tr><td>Burundi</td><td>7.155666666666663</td></tr><tr><td>Malawi</td><td>7.238333333333341</td></tr><tr><td>Zambia</td><td>7.320066666666664</td></tr><tr><td>Mongolia</td><td>7.379666666666672</td></tr><tr><td>Samoa</td><td>7.410999999999996</td></tr><tr><td>Niger</td><td>7.5056</td></tr><tr><td>Kenya</td><td>7.948599999999999</td></tr><tr><td>Marshall Islands</td><td>8.211866666666667</td></tr><tr><td>Rwanda</td><td>8.21246666666665</td></tr></tbody></table></div>"
      ]
     },
     "metadata": {
      "application/vnd.databricks.v1+output": {
       "addedWidgets": {},
       "aggData": [],
       "aggError": "",
       "aggOverflow": false,
       "aggSchema": [],
       "aggSeriesLimitReached": false,
       "aggType": "",
       "arguments": {},
       "columnCustomDisplayInfos": {},
       "data": [
        [
         "Palau",
         null
        ],
        [
         "Cayman Islands",
         null
        ],
        [
         "Liechtenstein",
         null
        ],
        [
         "Seychelles",
         null
        ],
        [
         "Serbia",
         1.9299333333333368
        ],
        [
         "Hungary",
         1.9719999999999909
        ],
        [
         "Estonia",
         2.0153333333333525
        ],
        [
         "Croatia",
         2.069933333333327
        ],
        [
         "Finland",
         2.1213333333333284
        ],
        [
         "Germany",
         2.1466666666666665
        ],
        [
         "Bulgaria",
         2.172000000000008
        ],
        [
         "Switzerland",
         2.238
        ],
        [
         "Slovenia",
         2.249933333333332
        ],
        [
         "Lithuania",
         2.306000000000021
        ],
        [
         "Poland",
         2.395333333333328
        ],
        [
         "Austria",
         2.432666666666672
        ],
        [
         "Romania",
         2.554666666666663
        ],
        [
         "Canada",
         2.635933333333381
        ],
        [
         "Bermuda",
         2.662799999999985
        ],
        [
         "Georgia",
         2.731866666666664
        ],
        [
         "Australia",
         2.9026666666667085
        ],
        [
         "Montenegro",
         2.908399999999995
        ],
        [
         "Portugal",
         3.038000000000008
        ],
        [
         "Gibraltar",
         3.0992666666666655
        ],
        [
         "Cyprus",
         3.1036666666666677
        ],
        [
         "New Zealand",
         3.3553333333333066
        ],
        [
         "Aruba",
         3.3785333333333365
        ],
        [
         "Barbados",
         3.4288666666666647
        ],
        [
         "Sint Maarten (Dutch part)",
         3.4472000000000014
        ],
        [
         "Armenia",
         3.702400000000007
        ],
        [
         "Israel",
         3.7697333333333343
        ],
        [
         "Singapore",
         3.7913333333333354
        ],
        [
         "Ireland",
         3.83266666666668
        ],
        [
         "Kazakhstan",
         3.8440000000000007
        ],
        [
         "Antigua and Barbuda",
         3.872199999999998
        ],
        [
         "Chile",
         3.9859999999999944
        ],
        [
         "Trinidad and Tobago",
         4.118933333333332
        ],
        [
         "Tuvalu",
         4.119200000000003
        ],
        [
         "Sri Lanka",
         4.619066666666662
        ],
        [
         "Mauritius",
         4.640133333333325
        ],
        [
         "Dominica",
         4.859199999999995
        ],
        [
         "Fiji",
         5.073866666666666
        ],
        [
         "Brazil",
         5.251800000000002
        ],
        [
         "Albania",
         5.366533333333334
        ],
        [
         "Malaysia",
         5.386266666666652
        ],
        [
         "Indonesia",
         5.4442000000000155
        ],
        [
         "Jamaica",
         5.44800000000002
        ],
        [
         "Cambodia",
         5.625266666666672
        ],
        [
         "Thailand",
         5.666266666666647
        ],
        [
         "India",
         5.70146666666666
        ],
        [
         "South Africa",
         5.7451333333333405
        ],
        [
         "Timor-Leste",
         5.775599999999998
        ],
        [
         "Suriname",
         5.842133333333326
        ],
        [
         "Kiribati",
         5.876333333333326
        ],
        [
         "Nepal",
         5.922533333333345
        ],
        [
         "Brunei Darussalam",
         5.935666666666664
        ],
        [
         "Paraguay",
         5.937933333333336
        ],
        [
         "Guinea-Bissau",
         6.02066666666667
        ],
        [
         "Tonga",
         6.215333333333321
        ],
        [
         "Belize",
         6.354066666666687
        ],
        [
         "Philippines",
         6.397733333333339
        ],
        [
         "Sao Tome and Principe",
         6.4145333333333365
        ],
        [
         "Peru",
         6.438600000000003
        ],
        [
         "Vanuatu",
         6.50073333333333
        ],
        [
         "Qatar",
         6.5177999999999985
        ],
        [
         "Mexico",
         6.548533333333349
        ],
        [
         "Bahrain",
         6.571200000000002
        ],
        [
         "Burkina Faso",
         6.59346666666666
        ],
        [
         "Liberia",
         6.606133333333333
        ],
        [
         "Mozambique",
         6.619000000000009
        ],
        [
         "Botswana",
         6.6278666666666695
        ],
        [
         "Bangladesh",
         6.835800000000005
        ],
        [
         "Nicaragua",
         6.88006666666667
        ],
        [
         "Ghana",
         6.903733333333324
        ],
        [
         "Ethiopia",
         6.9571999999999985
        ],
        [
         "Uganda",
         7.134666666666666
        ],
        [
         "Burundi",
         7.155666666666663
        ],
        [
         "Malawi",
         7.238333333333341
        ],
        [
         "Zambia",
         7.320066666666664
        ],
        [
         "Mongolia",
         7.379666666666672
        ],
        [
         "Samoa",
         7.410999999999996
        ],
        [
         "Niger",
         7.5056
        ],
        [
         "Kenya",
         7.948599999999999
        ],
        [
         "Marshall Islands",
         8.211866666666667
        ],
        [
         "Rwanda",
         8.21246666666665
        ]
       ],
       "datasetInfos": [],
       "dbfsResultPath": null,
       "isJsonSchema": true,
       "metadata": {},
       "overflow": false,
       "plotOptions": {
        "customPlotOptions": {},
        "displayType": "table",
        "pivotAggregation": null,
        "pivotColumns": null,
        "xColumns": null,
        "yColumns": null
       },
       "removedWidgets": [],
       "schema": [
        {
         "metadata": "{}",
         "name": "Country or Area",
         "type": "\"string\""
        },
        {
         "metadata": "{}",
         "name": "menor_taxa_por_pais_range_20_anos",
         "type": "\"double\""
        }
       ],
       "type": "table"
      }
     },
     "output_type": "display_data"
    }
   ],
   "source": [
    "menor_taxa_20_anos = (religions\n",
    "                                     .join(birth_rate.alias(\"b\"),\n",
    "                                           religions['Country or Area'] == birth_rate['Country Name'])\n",
    "                                     .withColumn(\"menor_taxa_por_pais_range_20_anos\",\n",
    "                                    ((col(\"1961\") + col(\"1962\") + col(\"1963\") + col(\"1964\") + col(\"1965\") + col(\"1966\") + col(\"1967\")\n",
    "                                    + col(\"1968\") + col(\"1969\") + col(\"1970\") + col(\"1971\") + col(\"1972\") + col(\"1973\") + col(\"1974\")\n",
    "                                    + col(\"1975\"))/15))\n",
    "                                     .select(\"Country or Area\",\"menor_taxa_por_pais_range_20_anos\"))\n",
    "\n",
    "menor_taxa_20_anos_grouped_data = (menor_taxa_20_anos.groupBy(\"Country or Area\")\n",
    "                .agg(avg(\"menor_taxa_por_pais_range_20_anos\").alias(\"menor_taxa_por_pais_range_20_anos\"))\n",
    "                .sort(col(\"menor_taxa_por_pais_range_20_anos\").asc())\n",
    "                .select(\"Country or Area\", \"menor_taxa_por_pais_range_20_anos\"))\n",
    "\n",
    "menor_taxa_20_anos_grouped_data.display()"
   ]
  },
  {
   "cell_type": "code",
   "execution_count": 0,
   "metadata": {
    "application/vnd.databricks.v1+cell": {
     "cellMetadata": {
      "byteLimit": 2048000,
      "rowLimit": 10000
     },
     "inputWidgets": {},
     "nuid": "5e52a916-a3db-4ec0-a52c-6e4d2d0ef1e8",
     "showTitle": true,
     "title": "Pais com maior quantidade de religiões distintas"
    }
   },
   "outputs": [
    {
     "output_type": "display_data",
     "data": {
      "text/html": [
       "<style scoped>\n",
       "  .table-result-container {\n",
       "    max-height: 300px;\n",
       "    overflow: auto;\n",
       "  }\n",
       "  table, th, td {\n",
       "    border: 1px solid black;\n",
       "    border-collapse: collapse;\n",
       "  }\n",
       "  th, td {\n",
       "    padding: 5px;\n",
       "  }\n",
       "  th {\n",
       "    text-align: left;\n",
       "  }\n",
       "</style><div class='table-result-container'><table class='table-result'><thead style='background-color: white'><tr><th>Country or Area</th><th>Total_de_religioes_distintas</th></tr></thead><tbody><tr><td>Canada</td><td>1535</td></tr></tbody></table></div>"
      ]
     },
     "metadata": {
      "application/vnd.databricks.v1+output": {
       "addedWidgets": {},
       "aggData": [],
       "aggError": "",
       "aggOverflow": false,
       "aggSchema": [],
       "aggSeriesLimitReached": false,
       "aggType": "",
       "arguments": {},
       "columnCustomDisplayInfos": {},
       "data": [
        [
         "Canada",
         1535
        ]
       ],
       "datasetInfos": [],
       "dbfsResultPath": null,
       "isJsonSchema": true,
       "metadata": {},
       "overflow": false,
       "plotOptions": {
        "customPlotOptions": {},
        "displayType": "table",
        "pivotAggregation": null,
        "pivotColumns": null,
        "xColumns": null,
        "yColumns": null
       },
       "removedWidgets": [],
       "schema": [
        {
         "metadata": "{}",
         "name": "Country or Area",
         "type": "\"string\""
        },
        {
         "metadata": "{}",
         "name": "Total_de_religioes_distintas",
         "type": "\"long\""
        }
       ],
       "type": "table"
      }
     },
     "output_type": "display_data"
    }
   ],
   "source": [
    "(religions.groupBy(\"Country or Area\")\n",
    "          .agg(count(\"Religion\").alias(\"Total_de_religioes_distintas\"))\n",
    "          .sort(col(\"Total_de_religioes_distintas\").desc())\n",
    "          .select(\"Country or Area\",\"Total_de_religioes_distintas\").limit(1).display())"
   ]
  },
  {
   "cell_type": "code",
   "execution_count": 0,
   "metadata": {
    "application/vnd.databricks.v1+cell": {
     "cellMetadata": {
      "byteLimit": 2048000,
      "rowLimit": 10000
     },
     "inputWidgets": {},
     "nuid": "6474b218-0c83-4480-a547-12bcab0d130e",
     "showTitle": true,
     "title": "Pais com menor numero de religiões distintas"
    }
   },
   "outputs": [
    {
     "output_type": "display_data",
     "data": {
      "text/html": [
       "<style scoped>\n",
       "  .table-result-container {\n",
       "    max-height: 300px;\n",
       "    overflow: auto;\n",
       "  }\n",
       "  table, th, td {\n",
       "    border: 1px solid black;\n",
       "    border-collapse: collapse;\n",
       "  }\n",
       "  th, td {\n",
       "    padding: 5px;\n",
       "  }\n",
       "  th {\n",
       "    text-align: left;\n",
       "  }\n",
       "</style><div class='table-result-container'><table class='table-result'><thead style='background-color: white'><tr><th>Country or Area</th><th>Total_de_religioes_distintas</th></tr></thead><tbody><tr><td>Niger</td><td>7</td></tr></tbody></table></div>"
      ]
     },
     "metadata": {
      "application/vnd.databricks.v1+output": {
       "addedWidgets": {},
       "aggData": [],
       "aggError": "",
       "aggOverflow": false,
       "aggSchema": [],
       "aggSeriesLimitReached": false,
       "aggType": "",
       "arguments": {},
       "columnCustomDisplayInfos": {},
       "data": [
        [
         "Niger",
         7
        ]
       ],
       "datasetInfos": [],
       "dbfsResultPath": null,
       "isJsonSchema": true,
       "metadata": {},
       "overflow": false,
       "plotOptions": {
        "customPlotOptions": {},
        "displayType": "table",
        "pivotAggregation": null,
        "pivotColumns": null,
        "xColumns": null,
        "yColumns": null
       },
       "removedWidgets": [],
       "schema": [
        {
         "metadata": "{}",
         "name": "Country or Area",
         "type": "\"string\""
        },
        {
         "metadata": "{}",
         "name": "Total_de_religioes_distintas",
         "type": "\"long\""
        }
       ],
       "type": "table"
      }
     },
     "output_type": "display_data"
    }
   ],
   "source": [
    "(religions.groupBy(\"Country or Area\")\n",
    "          .agg(count(\"Religion\").alias(\"Total_de_religioes_distintas\"))\n",
    "          .sort(col(\"Total_de_religioes_distintas\").asc())\n",
    "          .select(\"Country or Area\",\"Total_de_religioes_distintas\").limit(1).display())"
   ]
  },
  {
   "cell_type": "code",
   "execution_count": 0,
   "metadata": {
    "application/vnd.databricks.v1+cell": {
     "cellMetadata": {
      "byteLimit": 2048000,
      "rowLimit": 10000
     },
     "inputWidgets": {},
     "nuid": "05f567e7-e9ac-4ea3-af38-1ffc3e338d6f",
     "showTitle": true,
     "title": "Criando modelo de machine Learning"
    }
   },
   "outputs": [
    {
     "output_type": "stream",
     "name": "stdout",
     "output_type": "stream",
     "text": [
      "+----+------+\n|area| price|\n+----+------+\n|  50|200000|\n|  60|220000|\n|  80|270000|\n| 100|320000|\n| 120|380000|\n+----+------+\n\n"
     ]
    }
   ],
   "source": [
    "# Criando um dataframe de exemplo\n",
    "data = [(50, 200000), (60, 220000), (80, 270000), (100, 320000), (120, 380000)]\n",
    "df = spark.createDataFrame(data, [\"area\", \"price\"])\n",
    "\n",
    "# Exibindo os dados\n",
    "df.show()\n"
   ]
  },
  {
   "cell_type": "code",
   "execution_count": 0,
   "metadata": {
    "application/vnd.databricks.v1+cell": {
     "cellMetadata": {
      "byteLimit": 2048000,
      "rowLimit": 10000
     },
     "inputWidgets": {},
     "nuid": "b205869f-699b-45e3-bfbd-82d5f70a6d2e",
     "showTitle": true,
     "title": "Divisão dos Dados em Treinamento e Teste"
    }
   },
   "outputs": [],
   "source": [
    "train_data, test_data = df.randomSplit([0.8, 0.2], seed=1234)\n"
   ]
  },
  {
   "cell_type": "code",
   "execution_count": 0,
   "metadata": {
    "application/vnd.databricks.v1+cell": {
     "cellMetadata": {
      "byteLimit": 2048000,
      "rowLimit": 10000
     },
     "inputWidgets": {},
     "nuid": "d54e338f-2bfd-410e-b8b4-cad4f6a0d9d5",
     "showTitle": true,
     "title": "Treinamento do Modelo de Regressão Linear"
    }
   },
   "outputs": [],
   "source": [
    "# Transformando os dados para o formato correto\n",
    "vectorAssembler = VectorAssembler(inputCols=[\"area\"], outputCol=\"features\")\n",
    "train_data = vectorAssembler.transform(train_data)\n",
    "test_data = vectorAssembler.transform(test_data)\n",
    "\n",
    "# Definindo e treinando o modelo de regressão linear\n",
    "lr = LinearRegression(featuresCol='features', labelCol='price')\n",
    "lr_model = lr.fit(train_data)\n"
   ]
  },
  {
   "cell_type": "code",
   "execution_count": 0,
   "metadata": {
    "application/vnd.databricks.v1+cell": {
     "cellMetadata": {
      "byteLimit": 2048000,
      "rowLimit": 10000
     },
     "inputWidgets": {},
     "nuid": "4e0c04de-ef4a-44b8-a37f-4c33dd1a3064",
     "showTitle": true,
     "title": "Métricas de Desempenho"
    }
   },
   "outputs": [
    {
     "output_type": "stream",
     "name": "stdout",
     "output_type": "stream",
     "text": [
      "R2: 0.9969905949059491\nRMSE: 3612.309578068418\n"
     ]
    }
   ],
   "source": [
    "training_summary = lr_model.summary\n",
    "print(f\"R2: {training_summary.r2}\")\n",
    "print(f\"RMSE: {training_summary.rootMeanSquaredError}\")\n"
   ]
  },
  {
   "cell_type": "code",
   "execution_count": 0,
   "metadata": {
    "application/vnd.databricks.v1+cell": {
     "cellMetadata": {
      "byteLimit": 2048000,
      "rowLimit": 10000
     },
     "inputWidgets": {},
     "nuid": "99df9831-9da8-464e-b53a-e886b52810a1",
     "showTitle": true,
     "title": "Aplicando o Modelo na Base de Teste"
    }
   },
   "outputs": [
    {
     "output_type": "stream",
     "name": "stdout",
     "output_type": "stream",
     "text": [
      "+----------+-----+--------+\n|prediction|price|features|\n+----------+-----+--------+\n+----------+-----+--------+\n\n"
     ]
    }
   ],
   "source": [
    "predictions = lr_model.transform(test_data)\n",
    "predictions.select(\"prediction\", \"price\", \"features\").show()\n"
   ]
  },
  {
   "cell_type": "markdown",
   "metadata": {
    "application/vnd.databricks.v1+cell": {
     "cellMetadata": {},
     "inputWidgets": {},
     "nuid": "df4539ab-ca0a-4740-90a4-333ffff828a6",
     "showTitle": false,
     "title": ""
    }
   },
   "source": [
    "**Sugestões para Melhoria**\n",
    "\n",
    "***Feature Engineering***: Poderíamos adicionar mais recursos, como o número de quartos, a localização, entre outros.\n",
    "\n",
    "***Regularização***: Utilizar técnicas de regularização como Lasso ou Ridge para evitar overfitting, especialmente útil se tivermos muitos recursos.\n",
    "\n",
    "***Validação Cruzada***: Usar validação cruzada para otimizar os hiperparâmetros do modelo."
   ]
  },
  {
   "cell_type": "code",
   "execution_count": 0,
   "metadata": {
    "application/vnd.databricks.v1+cell": {
     "cellMetadata": {
      "byteLimit": 2048000,
      "rowLimit": 10000
     },
     "inputWidgets": {},
     "nuid": "a9e50163-8bf5-46c8-ad09-18d1f265f4cb",
     "showTitle": false,
     "title": ""
    }
   },
   "outputs": [
    {
     "output_type": "stream",
     "name": "stdout",
     "output_type": "stream",
     "text": [
      "+----------+-----+--------+\n|prediction|price|features|\n+----------+-----+--------+\n+----------+-----+--------+\n\n"
     ]
    }
   ],
   "source": [
    "# Definindo a grid de parâmetros\n",
    "paramGrid = ParamGridBuilder() \\\n",
    "    .addGrid(lr.regParam, [0.01, 0.1, 1.0]) \\\n",
    "    .addGrid(lr.elasticNetParam, [0.0, 0.5, 1.0]) \\\n",
    "    .build()\n",
    "\n",
    "# Definindo a validação cruzada\n",
    "crossval = CrossValidator(estimator=lr,\n",
    "                          estimatorParamMaps=paramGrid,\n",
    "                          evaluator=RegressionEvaluator(labelCol=\"price\"),\n",
    "                          numFolds=3)\n",
    "\n",
    "# Treinando o modelo com validação cruzada\n",
    "cv_model = crossval.fit(train_data)\n",
    "\n",
    "# Fazendo previsões com o melhor modelo\n",
    "cv_predictions = cv_model.transform(test_data)\n",
    "cv_predictions.select(\"prediction\", \"price\", \"features\").show()\n"
   ]
  }
 ],
 "metadata": {
  "application/vnd.databricks.v1+notebook": {
   "dashboards": [],
   "language": "python",
   "notebookMetadata": {
    "mostRecentlyExecutedCommandWithImplicitDF": {
     "commandId": 1607057368335046,
     "dataframes": [
      "_sqldf"
     ]
    },
    "pythonIndentUnit": 4
   },
   "notebookName": "traduzindo hadoop em pyspark",
   "widgets": {}
  }
 },
 "nbformat": 4,
 "nbformat_minor": 0
}
